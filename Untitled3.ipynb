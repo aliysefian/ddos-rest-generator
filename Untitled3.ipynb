{
 "cells": [
  {
   "cell_type": "code",
   "execution_count": 1,
   "id": "ad47cc46",
   "metadata": {},
   "outputs": [],
   "source": [
    "import requests\n",
    "\n"
   ]
  },
  {
   "cell_type": "code",
   "execution_count": 3,
   "id": "a204f447",
   "metadata": {},
   "outputs": [
    {
     "name": "stdout",
     "output_type": "stream",
     "text": [
      "{'data': {'nabz_product_id': None, 'business_card_slug': None, 'seo': {'title': 'میز نهار خوری هشت نفره|میز و صندلی غذاخوری|اصفهان، شاهین\\u200cشهر|دیوار', 'description': 'میز نهار خوری هشت نفره|میز و صندلی غذاخوری|اصفهان، شاهین\\u200cشهر|خرید و فروش میز هشت نفره ، خیلی خیلی تمیز و سالمه کلا ۴ بار ازش استفاده نشده اگر تشریف بیارید ببینید متوجه میشید. جنس پارچه مازراتی هست . کلا میز درجه یکه .| سایت ثبت آگهی، نیازمندی و خرید و فروش دیوار', 'url': 'https://divar.ir/v/%D9%85%DB%8C%D8%B2-%D9%86%D9%87%D8%A7%D8%B1-%D8%AE%D9%88%D8%B1%DB%8C-%D9%87%D8%B4%D8%AA-%D9%86%D9%81%D8%B1%D9%87_میز-و-صندلی-غذاخوری_اصفهان_شاهین-شهر_دیوار/gYRAEVQN', 'home_url': 'https://divar.ir/isfahan/اصفهان/browse', 'android_package_name': 'ir.divar', 'ios_app_id': '863029557', 'android_app_url': 'android-app://ir.divar/http/v/میز نهار خوری هشت نفره/gYRAEVQN/', 'ios_app_url': 'ios-app://863029557/http/v/میز نهار خوری هشت نفره/gYRAEVQN/', 'thumbnail': 'https://s100.divarcdn.com/static/thumbnails/1645311428/gYRAEVQN.jpg'}, 'share': {'title': 'میز نهار خوری هشت نفره', 'description': 'میز هشت نفره ، خیلی خیلی تمیز و سالمه کلا ۴ بار ازش استفاده نشده اگر تشریف بیارید ببینید متوجه میشید. جنس پارچه مازراتی هست . کلا میز درجه یکه .', 'android_url': 'https://divar.ir/v/gYRAEVQN?ref=android', 'ios_url': 'https://divar.ir/v/gYRAEVQN?ref=ios', 'web_url': 'https://divar.ir/v/gYRAEVQN'}, 'url': 'https://divar.ir/v/%D9%85%DB%8C%D8%B2-%D9%86%D9%87%D8%A7%D8%B1-%D8%AE%D9%88%D8%B1%DB%8C-%D9%87%D8%B4%D8%AA-%D9%86%D9%81%D8%B1%D9%87_میز-و-صندلی-غذاخوری_اصفهان_شاهین-شهر_دیوار/gYRAEVQN', 'category': {'slug': 'dining-table', 'title': 'میز و صندلی غذاخوری', 'second_slug': 'میز و صندلی غذاخوری'}, 'description': 'میز هشت نفره ، خیلی خیلی تمیز و سالمه کلا ۴ بار ازش استفاده نشده اگر تشریف بیارید ببینید متوجه میشید. جنس پارچه مازراتی هست . کلا میز درجه یکه .', 'business_data': {'business_type': 'personal', 'business_ref': None, 'data': None}, 'city': 'اصفهان', 'webengage': {'category': 'dining-table', 'token': 'gYRAEVQN', 'city': 'isfahan', 'brand_model': None, 'business_type': 'personal', 'business_ref': None, 'data': None, 'price': 8000000, 'rent': None, 'credit': None}, 'district': 'شاهین\\u200cشهر', 'brand_model': None}, 'widgets': {'header': {'date': 'یک ربع پیش', 'subtitle': 'یک ربع پیش در اصفهان، شاهین\\u200cشهر | میز و صندلی غذاخوری', 'title': 'میز نهار خوری هشت نفره', 'thumbnail': 'https://s100.divarcdn.com/static/thumbnails/1645311428/gYRAEVQN.jpg', 'place': 'شاهین\\u200cشهر', 'business_logo': None}, 'description': 'میز هشت نفره ، خیلی خیلی تمیز و سالمه کلا ۴ بار ازش استفاده نشده اگر تشریف بیارید ببینید متوجه میشید. جنس پارچه مازراتی هست . کلا میز درجه یکه .', 'description_show_lines': 0, 'list_data': [{'title': 'وضعیت', 'format': 'string', 'value': 'در حد نو'}, {'title': 'قیمت', 'format': 'string', 'value': '۸٬۰۰۰٬۰۰۰ تومان'}], 'location': {}, 'images': ['https://s100.divarcdn.com/static/pictures/1645311428/gYRAEVQN.webp', 'https://s100.divarcdn.com/static/pictures/1645311428/gYRAEVQN.1.webp'], 'web_images': [[{'src': 'https://s100.divarcdn.com/static/pictures/1645311428/gYRAEVQN.webp', 'type': 'image/webp'}, {'src': 'https://s100.divarcdn.com/static/pictures/1645311428/gYRAEVQN.jpg', 'type': 'image/jpeg'}], [{'src': 'https://s100.divarcdn.com/static/pictures/1645311428/gYRAEVQN.1.webp', 'type': 'image/webp'}, {'src': 'https://s100.divarcdn.com/static/pictures/1645311428/gYRAEVQN.1.jpg', 'type': 'image/jpeg'}]], 'breadcrumb': {'categories': [{'parent_slug': 'furniture-wood', 'slug': 'dining-table', 'title': 'میز و صندلی غذاخوری', 'icon_url': '', 'old_meta_id': 3064, 'second_slug': 'میز و صندلی غذاخوری', 'relative_url': 'isfahan/dining-table'}, {'parent_slug': 'home-kitchen', 'slug': 'furniture-wood', 'title': 'مبلمان و صنایع چوب', 'icon_url': '', 'old_meta_id': 3020, 'second_slug': 'مبلمان و صنایع چوب', 'relative_url': 'isfahan/furniture-wood'}, {'parent_slug': 'root', 'slug': 'home-kitchen', 'title': 'خانه و آشپزخانه', 'icon_url': 'https://s100.divarcdn.com/static/explorers/categories/home-appliance_%s.png', 'old_meta_id': 3000, 'second_slug': 'خانه و آشپزخانه', 'relative_url': 'isfahan/home-kitchen'}, {'parent_slug': None, 'slug': 'root', 'title': 'همه آگهی ها', 'icon_url': None, 'old_meta_id': 0, 'second_slug': 'همه آگهی ها', 'relative_url': 'isfahan'}], 'main_url': 'مبلمان-و-صنایع-چوب/خانه-و-آشپزخانه/میز-و-صندلی-غذاخوری/', 'base_url': 'https://divar.ir/isfahan/اصفهان/browse'}, 'contact': {'phone': '0913431xxxx', 'ab_mode': 2, 'chat': True}, 'links': [{'title': 'میز و صندلی غذاخوری', 'url': 'https://divar.ir/isfahan/اصفهان/browse/?query=0,میز-و-صندلی-غذاخوری', 'relative_url': 'isfahan/dining-table'}, {'title': 'میز و صندلی غذاخوری در شاهین\\u200cشهر', 'url': 'https://divar.ir/isfahan/اصفهان/شاهین\\u200cشهر/browse/مبلمان-و-صنایع-چوب/خانه-و-آشپزخانه/میز-و-صندلی-غذاخوری/?place=8,379', 'relative_url': 'isfahan/dining-table/shahin-shahr'}], 'messages': [], 'warnings': [{'title': 'راهنمای خرید امن', 'link': 'https://divar.ir/__safety_notice/'}], 'car_inspection': None, 'tags': [], 'customer_car_inspection_request': None, 'suggestions': {'suggestion_available': False, 'title': '', 'posts': [], 'widget_list': [], 'post_suggestion_extra_logs': []}, 'note': {'enable': True}}, 'token': 'gYRAEVQN', 'error': 0}\n"
     ]
    }
   ],
   "source": [
    "url = \"https://api.divar.ir/v5/posts/gYRAEVQN\"\n",
    "\n",
    "payload={}\n",
    "headers = {\n",
    "  'Cookie': 'did=ec3de232-193d-4d29-8d19-5c210cd0e20d; ga=GA1.2.958343835.1628941508; _gcl_au=1.1.1710749390.1637677108; multi-city=isfahan|; city=isfahan; _gid=GA1.2.958373558.1644561048; _gat_UA-32884252-2=1'\n",
    "}\n",
    "\n",
    "response = requests.request(\"GET\", url, headers=headers, data=payload)\n",
    "\n",
    "print(response.json())\n"
   ]
  },
  {
   "cell_type": "code",
   "execution_count": null,
   "id": "32cda5e0",
   "metadata": {},
   "outputs": [],
   "source": []
  }
 ],
 "metadata": {
  "kernelspec": {
   "display_name": "Python 3 (ipykernel)",
   "language": "python",
   "name": "python3"
  },
  "language_info": {
   "codemirror_mode": {
    "name": "ipython",
    "version": 3
   },
   "file_extension": ".py",
   "mimetype": "text/x-python",
   "name": "python",
   "nbconvert_exporter": "python",
   "pygments_lexer": "ipython3",
   "version": "3.8.10"
  }
 },
 "nbformat": 4,
 "nbformat_minor": 5
}
