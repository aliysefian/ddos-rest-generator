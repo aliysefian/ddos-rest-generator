{
 "cells": [
  {
   "cell_type": "code",
   "execution_count": 1,
   "id": "14713306",
   "metadata": {},
   "outputs": [],
   "source": [
    "RequestUserId='430e8316-4baa-403c-af87-33dcb03e609e'\n",
    "\n",
    "RequestUserId='952e1aec-bfe6-4cc3-aa87-033cc708e118'"
   ]
  },
  {
   "cell_type": "code",
   "execution_count": 2,
   "id": "79765477",
   "metadata": {},
   "outputs": [],
   "source": [
    "import requests\n",
    "from bs4 import BeautifulSoup\n",
    "\n",
    "url = f\"https://applicant.markazjazb.ir/Request/Operation/AttachAjaxTab?TabId=PersonalInformation&RequestUserId={RequestUserId}&reqDate=\"\n",
    "\n",
    "payload={'TabId': 'PersonalInformation',\n",
    "'RequestUserId':RequestUserId}\n",
    "files=[\n",
    "\n",
    "]\n",
    "headers = {\n",
    "  'Cookie': '.AspNetCore.Antiforgery.cyWFg2kfZ30=CfDJ8NzWiH5fRktHuA-Hj8s-6QiIyFKYoErwqN25n1tZATF3NqjuwB7aGpaFX1HULUbHnkSVIKyiaTGOKJixJ4QEO2fk7lCf82EMQbMHJ32HzI-iVucJZwO37FyQkymcVZZS4hasyl_WllO5q4Ana3ljt2g; .AspNetCore.Identity.Application=CfDJ8NzWiH5fRktHuA-Hj8s-6Qh-2ynhbvZazVp4rYhfkHRGiTLV7aQE9q6aPU7pKe23zunVo9Bz5QsoR1576KeOmL0DZ5ecbkmcpaOZPyPAEfl84KYoLdEJK3DI44MHQF1yVd_W60mptf4H99FRLhhgUCjNgbo-sGIFOgGvCI3Njf4NtYXoeBLlFX68CjhXa9vLos1kKuoNoqTwmwLetP8B8t981JbWBOs4zImOyXY8h-mNG2Xo7H5EhoVur71irU8DFdrpK-ivAC5pSskQJ877JFrQ9meYn0VlmaEbOYgRy3laL-mtoZ6HGz7m2HM0UydqkOn8GxIriD962i9dsCGYriM4H-IGYHgz5eSiPS4HmPQjo3xy5JT2211v-9S-xvc7wGqUuBxTPNYnE-5bhHXQ6QSYuBotOJhe382uR8r94FAZQ7SRKN6P6GZ5m0FobpbEbqVvdew8vD6MpvStayyPYASFmZ8CBkw6uITaUuqc_E_RstUmElTYPsjHuI0ts8N7SsO96dgdeiES3u24Cy7ffckWr-TmSR6ovfqGgKsJr1rj41mztVwPKRZlO-YN4hvti7dNOoLm6weDs2i9FZE-MPZNXHhJGb1gQ4dLLFIIRyQscd9kJ5nOUi42Vvx-FT8E26_QorqWhlg7RbYESdFTRwKPxbXaLfIDJbeNpYgzi-Q0n--esGm2gumHJjhhWQ1ou-8gM0K7rAGKJIAmLCdAbSkNjbB28JG161VQKv0Dpu20Ja42U2BCf9N5lnWtCwpV-CdP_0uE2xXRtYQey8ZJo7CQh7QlwdvXAGzmvYBQfOQig-CAYUqpsiiXhIQuoBA6BaQeZfAkMkJBp3vBbIzfkOlpJZ98dABLt5ispNGAXXHiEYKl-frfCY8iy77fN4dRmYjTzrG-wC_K4ANFQOQclxdR9uG1yHHfIsTjImGs7j6TcxTs8UZPwYKXfi2AmnK0iOPMQxsU4Rz9sdEFr6E8JFXq26i10hNDwxlBdVVA9iWWkXl1Df-aMb6wf_iDsD_S5C6xTk5G-LlL1-d3urpaykgMJ_GJXIcNZZYewmEHiJZyGFdcSDNfq7oeAGXCVdmz81mR5W9ZEfQmM9ER-ZfTSY0lbB-r7bHqV8RrRGcYEaqcb3SslzV00ST3YeWazeexD_UqBzJPskP5du_JzL2qRbYMn1kEXFk0btc19bgF_GKiJL4vfL9FDUP2oU7O3pADB63zsHRAhtyP_slpiPfsGwxqgD9lc29OGkwILEUPgaErgc8eASOuGdktl4Obm-zzB9aQ3sfxAW_XUwkLZ8nsFE_7m2Udkz82heSYZwYHGK3eaOOko_UudUGJmuFprxWpWpDD-qLqSC7V976NKCMDmNXD41NDaSPXZqUVUMajKsgQBsHVZ1dh6VZOEoqscs31mTQclJfsSztJq-brDOdyOySeYjAG2a4nTfn1lrEMDc7ihjlEwroTckw4camn4khZ6YrxeB_vCk7AGaHkyBk1YeP-XicseLYKUdkvkJt0bEzh3lqh1smo2zfocuDPH0IhMsJRdkpVoCdeiu3lj2AGLHtt1lyH4i4TyepBzdpTtOr9mieONk_HKUYK7_IXxaqZQJKfWlIjwTf_2vEJEnTn8PjwbdK_HEI8gnxMTQ9lTZVA; rocketChatOmniChannelUserToken=1a5d187082414c5489d283f'\n",
    "}\n",
    "\n",
    "response = requests.request(\"POST\", url, headers=headers, data=payload, files=files)\n",
    "\n",
    "# print(response.text)\n",
    "soup = BeautifulSoup(response.content, \"html.parser\")\n"
   ]
  },
  {
   "cell_type": "code",
   "execution_count": 3,
   "id": "acf4b383",
   "metadata": {},
   "outputs": [],
   "source": [
    "job_elements=soup.find_all('input',class_=\"form-control\")"
   ]
  },
  {
   "cell_type": "code",
   "execution_count": 4,
   "id": "9d4fe70b",
   "metadata": {},
   "outputs": [],
   "source": [
    "data={}\n",
    "for job_element in job_elements:\n",
    "    data[job_element.get(\"name\")]=job_element.get(\"value\")\n",
    "#     print(job_element.get(\"value\"),job_element.get(\"name\"))"
   ]
  },
  {
   "cell_type": "code",
   "execution_count": 5,
   "id": "576d2080",
   "metadata": {},
   "outputs": [
    {
     "data": {
      "text/plain": [
       "{'NationalCode': '1292568951',\n",
       " 'Name': 'علی',\n",
       " 'LastName': 'لقمانی',\n",
       " 'FatherName': 'تقی',\n",
       " 'ShId': '4047',\n",
       " 'NationalityNavigation': 'ایرانی',\n",
       " 'ReligionNavigation': 'شیعه',\n",
       " 'GenderNavigation': 'مرد',\n",
       " 'MaritialStatusNavigation': 'متاهل',\n",
       " 'Persian_BirthDate': '۱۳۶۴/۰۵/۰۳',\n",
       " 'BornCountryTitle': 'ایران',\n",
       " 'BornProvinceTitle': 'اصفهان',\n",
       " 'BornTownshipTitle': 'اصفهان',\n",
       " 'Persian_IssuanceCertificate': '۱۳۶۴/۱۰/۲۴',\n",
       " 'CountryOfIssuanceCertificateTitle': 'ایران',\n",
       " 'ProvinceOfIssuanceCertificateTitle': 'اصفهان',\n",
       " 'TownshipOfIssuanceCertificateTitle': 'اصفهان',\n",
       " 'MilitaryStatusNavigation': 'معاف دائم',\n",
       " 'Persian_ExepmtionDate': '۱۳۹۱/۰۳/۲۲',\n",
       " 'Persian_EndOfMilitaryDate': '',\n",
       " 'Persian_IntroductionDate': ''}"
      ]
     },
     "execution_count": 5,
     "metadata": {},
     "output_type": "execute_result"
    }
   ],
   "source": [
    "data"
   ]
  },
  {
   "cell_type": "code",
   "execution_count": 6,
   "id": "d9efd7b9",
   "metadata": {},
   "outputs": [],
   "source": [
    "part=\"PersonalDocument\""
   ]
  },
  {
   "cell_type": "code",
   "execution_count": 7,
   "id": "71ffb86a",
   "metadata": {},
   "outputs": [],
   "source": [
    "import requests\n",
    "from bs4 import BeautifulSoup\n",
    "def call_api(tabid):\n",
    "    url = f\"https://applicant.markazjazb.ir/Request/Operation/AttachAjaxTab?TabId=PersonalInformation&RequestUserId={RequestUserId}&reqDate=\"\n",
    "\n",
    "    payload={'TabId': tabid,\n",
    "    'RequestUserId': RequestUserId}\n",
    "    files=[\n",
    "\n",
    "    ]\n",
    "    headers = {\n",
    "      'Cookie': '.AspNetCore.Antiforgery.cyWFg2kfZ30=CfDJ8NzWiH5fRktHuA-Hj8s-6QiIyFKYoErwqN25n1tZATF3NqjuwB7aGpaFX1HULUbHnkSVIKyiaTGOKJixJ4QEO2fk7lCf82EMQbMHJ32HzI-iVucJZwO37FyQkymcVZZS4hasyl_WllO5q4Ana3ljt2g; .AspNetCore.Identity.Application=CfDJ8NzWiH5fRktHuA-Hj8s-6Qh-2ynhbvZazVp4rYhfkHRGiTLV7aQE9q6aPU7pKe23zunVo9Bz5QsoR1576KeOmL0DZ5ecbkmcpaOZPyPAEfl84KYoLdEJK3DI44MHQF1yVd_W60mptf4H99FRLhhgUCjNgbo-sGIFOgGvCI3Njf4NtYXoeBLlFX68CjhXa9vLos1kKuoNoqTwmwLetP8B8t981JbWBOs4zImOyXY8h-mNG2Xo7H5EhoVur71irU8DFdrpK-ivAC5pSskQJ877JFrQ9meYn0VlmaEbOYgRy3laL-mtoZ6HGz7m2HM0UydqkOn8GxIriD962i9dsCGYriM4H-IGYHgz5eSiPS4HmPQjo3xy5JT2211v-9S-xvc7wGqUuBxTPNYnE-5bhHXQ6QSYuBotOJhe382uR8r94FAZQ7SRKN6P6GZ5m0FobpbEbqVvdew8vD6MpvStayyPYASFmZ8CBkw6uITaUuqc_E_RstUmElTYPsjHuI0ts8N7SsO96dgdeiES3u24Cy7ffckWr-TmSR6ovfqGgKsJr1rj41mztVwPKRZlO-YN4hvti7dNOoLm6weDs2i9FZE-MPZNXHhJGb1gQ4dLLFIIRyQscd9kJ5nOUi42Vvx-FT8E26_QorqWhlg7RbYESdFTRwKPxbXaLfIDJbeNpYgzi-Q0n--esGm2gumHJjhhWQ1ou-8gM0K7rAGKJIAmLCdAbSkNjbB28JG161VQKv0Dpu20Ja42U2BCf9N5lnWtCwpV-CdP_0uE2xXRtYQey8ZJo7CQh7QlwdvXAGzmvYBQfOQig-CAYUqpsiiXhIQuoBA6BaQeZfAkMkJBp3vBbIzfkOlpJZ98dABLt5ispNGAXXHiEYKl-frfCY8iy77fN4dRmYjTzrG-wC_K4ANFQOQclxdR9uG1yHHfIsTjImGs7j6TcxTs8UZPwYKXfi2AmnK0iOPMQxsU4Rz9sdEFr6E8JFXq26i10hNDwxlBdVVA9iWWkXl1Df-aMb6wf_iDsD_S5C6xTk5G-LlL1-d3urpaykgMJ_GJXIcNZZYewmEHiJZyGFdcSDNfq7oeAGXCVdmz81mR5W9ZEfQmM9ER-ZfTSY0lbB-r7bHqV8RrRGcYEaqcb3SslzV00ST3YeWazeexD_UqBzJPskP5du_JzL2qRbYMn1kEXFk0btc19bgF_GKiJL4vfL9FDUP2oU7O3pADB63zsHRAhtyP_slpiPfsGwxqgD9lc29OGkwILEUPgaErgc8eASOuGdktl4Obm-zzB9aQ3sfxAW_XUwkLZ8nsFE_7m2Udkz82heSYZwYHGK3eaOOko_UudUGJmuFprxWpWpDD-qLqSC7V976NKCMDmNXD41NDaSPXZqUVUMajKsgQBsHVZ1dh6VZOEoqscs31mTQclJfsSztJq-brDOdyOySeYjAG2a4nTfn1lrEMDc7ihjlEwroTckw4camn4khZ6YrxeB_vCk7AGaHkyBk1YeP-XicseLYKUdkvkJt0bEzh3lqh1smo2zfocuDPH0IhMsJRdkpVoCdeiu3lj2AGLHtt1lyH4i4TyepBzdpTtOr9mieONk_HKUYK7_IXxaqZQJKfWlIjwTf_2vEJEnTn8PjwbdK_HEI8gnxMTQ9lTZVA; rocketChatOmniChannelUserToken=1a5d187082414c5489d283f'\n",
    "    }\n",
    "\n",
    "    response = requests.request(\"POST\", url, headers=headers, data=payload, files=files)\n",
    "\n",
    "    # print(response.text)\n",
    "    soup = BeautifulSoup(response.content, \"html.parser\")\n",
    "    return soup"
   ]
  },
  {
   "cell_type": "code",
   "execution_count": 8,
   "id": "45518cf3",
   "metadata": {},
   "outputs": [],
   "source": [
    "soup=call_api(part)"
   ]
  },
  {
   "cell_type": "code",
   "execution_count": 9,
   "id": "089f192a",
   "metadata": {},
   "outputs": [
    {
     "data": {
      "text/plain": [
       "\n",
       "<h4 class=\"card-title\">مدارک هویتی</h4>\n",
       "<hr/>\n",
       "<div class=\"form-body\">\n",
       "<div class=\"row p-t-20\">\n",
       "<div class=\"col-md-6\">\n",
       "<div class=\"form-group\">\n",
       "<label class=\"control-label\" for=\"NationalCardImg\">تصویر کارت ملی</label>\n",
       "<a class=\"model_img\" data-target=\"#ViewAttachmentImgModel\" data-toggle=\"modal\" onclick=\"$('#ViewAttachment').attr('src','/API/JazbAPI/Images/28344b9f-7b6e-4f3f-8328-b92b82f546ea')\" title=\"تصویر بزرگ\">\n",
       "<img class=\"img-thumbnail\" src=\"/API/JazbAPI/Images/28344b9f-7b6e-4f3f-8328-b92b82f546ea\"/>\n",
       "</a>\n",
       "</div>\n",
       "</div>\n",
       "<div class=\"col-md-6\">\n",
       "<div class=\"form-group\">\n",
       "<label class=\"control-label\" for=\"CertificatePageOne\">تصویر شناسنامه(صفحه اول)</label>\n",
       "<a class=\"model_img\" data-target=\"#ViewAttachmentImgModel\" data-toggle=\"modal\" onclick=\"$('#ViewAttachment').attr('src','/API/JazbAPI/Images/7ebe028c-0e60-4701-b7d3-ddf14ed7f423')\" title=\"تصویر بزرگ\">\n",
       "<img class=\"img-thumbnail\" src=\"/API/JazbAPI/Images/7ebe028c-0e60-4701-b7d3-ddf14ed7f423\"/>\n",
       "</a>\n",
       "</div> </div>\n",
       "</div>\n",
       "<div class=\"row\">\n",
       "<div class=\"col-md-6\">\n",
       "<div class=\"form-group\">\n",
       "<label class=\"control-label\" for=\"CertificatePageTwo\">تصویر شناسنامه(صفحه دوم)</label>\n",
       "<a class=\"model_img\" data-target=\"#ViewAttachmentImgModel\" data-toggle=\"modal\" onclick=\"$('#ViewAttachment').attr('src','/API/JazbAPI/Images/bff80c7f-1c9a-43f2-894d-c6a03f2da1a7')\" title=\"تصویر بزرگ\">\n",
       "<img class=\"img-thumbnail\" src=\"/API/JazbAPI/Images/bff80c7f-1c9a-43f2-894d-c6a03f2da1a7\"/>\n",
       "</a>\n",
       "</div> </div>\n",
       "<div class=\"col-md-6\">\n",
       "<div class=\"form-group\">\n",
       "<label class=\"control-label\" for=\"CertificatePageThree\">تصویر شناسنامه(صفحه سوم)</label>\n",
       "<a class=\"model_img\" data-target=\"#ViewAttachmentImgModel\" data-toggle=\"modal\" onclick=\"$('#ViewAttachment').attr('src','/API/JazbAPI/Images/07888e46-3802-43ff-88b4-e169f3fa9e20')\" title=\"تصویر بزرگ\">\n",
       "<img class=\"img-thumbnail\" src=\"/API/JazbAPI/Images/07888e46-3802-43ff-88b4-e169f3fa9e20\"/>\n",
       "</a>\n",
       "</div> </div>\n",
       "</div>\n",
       "<div class=\"row\">\n",
       "<div class=\"col-md-6\">\n",
       "<div class=\"form-group\">\n",
       "<label class=\"control-label\" for=\"CertificatePageFour\">تصویر شناسنامه(صفحه چهارم)</label>\n",
       "<a class=\"model_img\" data-target=\"#ViewAttachmentImgModel\" data-toggle=\"modal\" onclick=\"$('#ViewAttachment').attr('src','/API/JazbAPI/Images/1d0a2362-cbec-4b77-b1dc-90d20ce259f1')\" title=\"تصویر بزرگ\">\n",
       "<img class=\"img-thumbnail\" src=\"/API/JazbAPI/Images/1d0a2362-cbec-4b77-b1dc-90d20ce259f1\"/>\n",
       "</a>\n",
       "</div> </div>\n",
       "<div class=\"col-md-6\">\n",
       "<div class=\"form-group\">\n",
       "<label class=\"control-label\" for=\"CertificatePageFive\">تصویر شناسنامه(صفحه پنجم)</label>\n",
       "<a class=\"model_img\" data-target=\"#ViewAttachmentImgModel\" data-toggle=\"modal\" onclick=\"$('#ViewAttachment').attr('src','/API/JazbAPI/Images/6f1e797d-42cd-45a3-892c-c128e603251b')\" title=\"تصویر بزرگ\">\n",
       "<img class=\"img-thumbnail\" src=\"/API/JazbAPI/Images/6f1e797d-42cd-45a3-892c-c128e603251b\"/>\n",
       "</a>\n",
       "</div> </div>\n",
       "</div>\n",
       "<div class=\"row\">\n",
       "<div class=\"col-md-6\">\n",
       "<div class=\"form-group\">\n",
       "<label class=\"control-label\" for=\"MilitaryDoc\">تصویر کارت پایان خدمت</label>\n",
       "<a class=\"model_img\" data-target=\"#ViewAttachmentImgModel\" data-toggle=\"modal\" onclick=\"$('#ViewAttachment').attr('src','/API/JazbAPI/Images/6f1e797d-42cd-45a3-892c-c128e603251b')\" title=\"تصویر بزرگ\">\n",
       "<img class=\"img-thumbnail\" src=\"/API/JazbAPI/Images/043d4a0c-fa8f-42ba-be41-259dd58f35b3\"/>\n",
       "</a>\n",
       "</div> </div>\n",
       "</div>\n",
       "</div>"
      ]
     },
     "execution_count": 9,
     "metadata": {},
     "output_type": "execute_result"
    }
   ],
   "source": [
    "soup"
   ]
  },
  {
   "cell_type": "code",
   "execution_count": 10,
   "id": "25247d4b",
   "metadata": {},
   "outputs": [],
   "source": [
    "job_elements=soup.find_all('div',class_=\"form-group\")"
   ]
  },
  {
   "cell_type": "code",
   "execution_count": 11,
   "id": "ceeb1afe",
   "metadata": {},
   "outputs": [],
   "source": [
    "for job_element in job_elements:\n",
    "#     print(job_element.find('img').get(\"src\"))\n",
    "#     print(job_element.find('label').get('for'))\n",
    "    data[job_element.find('label').get('for')]=job_element.find('img').get(\"src\")\n",
    "    \n",
    "    \n",
    "#     print(job_element, end=\"\\n\"*2)"
   ]
  },
  {
   "cell_type": "code",
   "execution_count": 12,
   "id": "02559b3a",
   "metadata": {},
   "outputs": [
    {
     "data": {
      "text/plain": [
       "{'NationalCode': '1292568951',\n",
       " 'Name': 'علی',\n",
       " 'LastName': 'لقمانی',\n",
       " 'FatherName': 'تقی',\n",
       " 'ShId': '4047',\n",
       " 'NationalityNavigation': 'ایرانی',\n",
       " 'ReligionNavigation': 'شیعه',\n",
       " 'GenderNavigation': 'مرد',\n",
       " 'MaritialStatusNavigation': 'متاهل',\n",
       " 'Persian_BirthDate': '۱۳۶۴/۰۵/۰۳',\n",
       " 'BornCountryTitle': 'ایران',\n",
       " 'BornProvinceTitle': 'اصفهان',\n",
       " 'BornTownshipTitle': 'اصفهان',\n",
       " 'Persian_IssuanceCertificate': '۱۳۶۴/۱۰/۲۴',\n",
       " 'CountryOfIssuanceCertificateTitle': 'ایران',\n",
       " 'ProvinceOfIssuanceCertificateTitle': 'اصفهان',\n",
       " 'TownshipOfIssuanceCertificateTitle': 'اصفهان',\n",
       " 'MilitaryStatusNavigation': 'معاف دائم',\n",
       " 'Persian_ExepmtionDate': '۱۳۹۱/۰۳/۲۲',\n",
       " 'Persian_EndOfMilitaryDate': '',\n",
       " 'Persian_IntroductionDate': '',\n",
       " 'NationalCardImg': '/API/JazbAPI/Images/28344b9f-7b6e-4f3f-8328-b92b82f546ea',\n",
       " 'CertificatePageOne': '/API/JazbAPI/Images/7ebe028c-0e60-4701-b7d3-ddf14ed7f423',\n",
       " 'CertificatePageTwo': '/API/JazbAPI/Images/bff80c7f-1c9a-43f2-894d-c6a03f2da1a7',\n",
       " 'CertificatePageThree': '/API/JazbAPI/Images/07888e46-3802-43ff-88b4-e169f3fa9e20',\n",
       " 'CertificatePageFour': '/API/JazbAPI/Images/1d0a2362-cbec-4b77-b1dc-90d20ce259f1',\n",
       " 'CertificatePageFive': '/API/JazbAPI/Images/6f1e797d-42cd-45a3-892c-c128e603251b',\n",
       " 'MilitaryDoc': '/API/JazbAPI/Images/043d4a0c-fa8f-42ba-be41-259dd58f35b3'}"
      ]
     },
     "execution_count": 12,
     "metadata": {},
     "output_type": "execute_result"
    }
   ],
   "source": [
    "data"
   ]
  },
  {
   "cell_type": "code",
   "execution_count": 13,
   "id": "8ed0f5c7",
   "metadata": {},
   "outputs": [],
   "source": [
    "soup=call_api(\"ContactInformation\")"
   ]
  },
  {
   "cell_type": "code",
   "execution_count": 14,
   "id": "45bc6db9",
   "metadata": {},
   "outputs": [],
   "source": [
    "job_elements=soup.find_all('input',class_=\"form-control\")"
   ]
  },
  {
   "cell_type": "code",
   "execution_count": 15,
   "id": "ba3551b4",
   "metadata": {},
   "outputs": [],
   "source": [
    "for job_element in job_elements:\n",
    "    data[job_element.get(\"name\")]=job_element.get(\"value\")\n",
    "#     print(job_element.get(\"name\"),job_element.get(\"value\"))"
   ]
  },
  {
   "cell_type": "code",
   "execution_count": 16,
   "id": "3cc31140",
   "metadata": {
    "scrolled": true
   },
   "outputs": [],
   "source": [
    "job_element=soup.find('textarea')\n",
    "data[job_element.get(\"name\")]=job_element.text"
   ]
  },
  {
   "cell_type": "code",
   "execution_count": 17,
   "id": "04be3cf8",
   "metadata": {},
   "outputs": [
    {
     "data": {
      "text/plain": [
       "{'NationalCode': '1292568951',\n",
       " 'Name': 'علی',\n",
       " 'LastName': 'لقمانی',\n",
       " 'FatherName': 'تقی',\n",
       " 'ShId': '4047',\n",
       " 'NationalityNavigation': 'ایرانی',\n",
       " 'ReligionNavigation': 'شیعه',\n",
       " 'GenderNavigation': 'مرد',\n",
       " 'MaritialStatusNavigation': 'متاهل',\n",
       " 'Persian_BirthDate': '۱۳۶۴/۰۵/۰۳',\n",
       " 'BornCountryTitle': 'ایران',\n",
       " 'BornProvinceTitle': 'اصفهان',\n",
       " 'BornTownshipTitle': 'اصفهان',\n",
       " 'Persian_IssuanceCertificate': '۱۳۶۴/۱۰/۲۴',\n",
       " 'CountryOfIssuanceCertificateTitle': 'ایران',\n",
       " 'ProvinceOfIssuanceCertificateTitle': 'اصفهان',\n",
       " 'TownshipOfIssuanceCertificateTitle': 'اصفهان',\n",
       " 'MilitaryStatusNavigation': 'معاف دائم',\n",
       " 'Persian_ExepmtionDate': '۱۳۹۱/۰۳/۲۲',\n",
       " 'Persian_EndOfMilitaryDate': '',\n",
       " 'Persian_IntroductionDate': '',\n",
       " 'NationalCardImg': '/API/JazbAPI/Images/28344b9f-7b6e-4f3f-8328-b92b82f546ea',\n",
       " 'CertificatePageOne': '/API/JazbAPI/Images/7ebe028c-0e60-4701-b7d3-ddf14ed7f423',\n",
       " 'CertificatePageTwo': '/API/JazbAPI/Images/bff80c7f-1c9a-43f2-894d-c6a03f2da1a7',\n",
       " 'CertificatePageThree': '/API/JazbAPI/Images/07888e46-3802-43ff-88b4-e169f3fa9e20',\n",
       " 'CertificatePageFour': '/API/JazbAPI/Images/1d0a2362-cbec-4b77-b1dc-90d20ce259f1',\n",
       " 'CertificatePageFive': '/API/JazbAPI/Images/6f1e797d-42cd-45a3-892c-c128e603251b',\n",
       " 'MilitaryDoc': '/API/JazbAPI/Images/043d4a0c-fa8f-42ba-be41-259dd58f35b3',\n",
       " 'Contact.EssentialPhone': '09133006320',\n",
       " 'Contact.ResidancePhoneNumber': '03132688715',\n",
       " 'Address.Persian_StartDateOfResidence': '۱۳۹۷/۰۶/۰۱',\n",
       " 'Address.CountryTitle': 'ایران',\n",
       " 'Address.ProvinceTitle': 'اصفهان',\n",
       " 'Address.TownshipTitle': 'اصفهان',\n",
       " 'Address.PostalCode': '8153943671',\n",
       " 'Address.AddressValue': '\\nخ شریف واقفی، کوچه مهدی نژاد، کوچه مسائلی، پلاک ۱۸'}"
      ]
     },
     "execution_count": 17,
     "metadata": {},
     "output_type": "execute_result"
    }
   ],
   "source": [
    "data"
   ]
  },
  {
   "cell_type": "code",
   "execution_count": 18,
   "id": "5c0872a3",
   "metadata": {},
   "outputs": [],
   "source": [
    "soup=call_api(\"SpouseInformation\")\n",
    "job_elements=soup.find_all('input',class_=\"form-control\")\n"
   ]
  },
  {
   "cell_type": "code",
   "execution_count": 19,
   "id": "28e06345",
   "metadata": {},
   "outputs": [],
   "source": [
    "data[\"sop\"]={}\n",
    "for job_element in job_elements:\n",
    "    data[\"sop\"][job_element.get(\"name\")]=job_element.get(\"value\")"
   ]
  },
  {
   "cell_type": "code",
   "execution_count": 20,
   "id": "e8d2a70f",
   "metadata": {},
   "outputs": [
    {
     "data": {
      "text/plain": [
       "{'NationalCode': '1292568951',\n",
       " 'Name': 'علی',\n",
       " 'LastName': 'لقمانی',\n",
       " 'FatherName': 'تقی',\n",
       " 'ShId': '4047',\n",
       " 'NationalityNavigation': 'ایرانی',\n",
       " 'ReligionNavigation': 'شیعه',\n",
       " 'GenderNavigation': 'مرد',\n",
       " 'MaritialStatusNavigation': 'متاهل',\n",
       " 'Persian_BirthDate': '۱۳۶۴/۰۵/۰۳',\n",
       " 'BornCountryTitle': 'ایران',\n",
       " 'BornProvinceTitle': 'اصفهان',\n",
       " 'BornTownshipTitle': 'اصفهان',\n",
       " 'Persian_IssuanceCertificate': '۱۳۶۴/۱۰/۲۴',\n",
       " 'CountryOfIssuanceCertificateTitle': 'ایران',\n",
       " 'ProvinceOfIssuanceCertificateTitle': 'اصفهان',\n",
       " 'TownshipOfIssuanceCertificateTitle': 'اصفهان',\n",
       " 'MilitaryStatusNavigation': 'معاف دائم',\n",
       " 'Persian_ExepmtionDate': '۱۳۹۱/۰۳/۲۲',\n",
       " 'Persian_EndOfMilitaryDate': '',\n",
       " 'Persian_IntroductionDate': '',\n",
       " 'NationalCardImg': '/API/JazbAPI/Images/28344b9f-7b6e-4f3f-8328-b92b82f546ea',\n",
       " 'CertificatePageOne': '/API/JazbAPI/Images/7ebe028c-0e60-4701-b7d3-ddf14ed7f423',\n",
       " 'CertificatePageTwo': '/API/JazbAPI/Images/bff80c7f-1c9a-43f2-894d-c6a03f2da1a7',\n",
       " 'CertificatePageThree': '/API/JazbAPI/Images/07888e46-3802-43ff-88b4-e169f3fa9e20',\n",
       " 'CertificatePageFour': '/API/JazbAPI/Images/1d0a2362-cbec-4b77-b1dc-90d20ce259f1',\n",
       " 'CertificatePageFive': '/API/JazbAPI/Images/6f1e797d-42cd-45a3-892c-c128e603251b',\n",
       " 'MilitaryDoc': '/API/JazbAPI/Images/043d4a0c-fa8f-42ba-be41-259dd58f35b3',\n",
       " 'Contact.EssentialPhone': '09133006320',\n",
       " 'Contact.ResidancePhoneNumber': '03132688715',\n",
       " 'Address.Persian_StartDateOfResidence': '۱۳۹۷/۰۶/۰۱',\n",
       " 'Address.CountryTitle': 'ایران',\n",
       " 'Address.ProvinceTitle': 'اصفهان',\n",
       " 'Address.TownshipTitle': 'اصفهان',\n",
       " 'Address.PostalCode': '8153943671',\n",
       " 'Address.AddressValue': '\\nخ شریف واقفی، کوچه مهدی نژاد، کوچه مسائلی، پلاک ۱۸',\n",
       " 'sop': {'NationalityTitle': 'ایرانی',\n",
       "  'CitizenshipTitle': 'ایرانی',\n",
       "  'NationalCode': '1270295632',\n",
       "  'Name': 'سپیده',\n",
       "  'LastName': 'اخوان بی تقصیر',\n",
       "  'FatherName': 'رضا',\n",
       "  'Persian_BirthDate': '۱۳۶۸/۰۹/۰۳',\n",
       "  'ReligionTitle': 'شیعه',\n",
       "  'MobilePhoneNumber': '09128152658',\n",
       "  'Email': 'sepideh.a.b@gmail.com',\n",
       "  'ResidanceCountryTitle': 'ایران',\n",
       "  'ResidanceProvinceTitle': 'اصفهان',\n",
       "  'ResidanceTownshipTitle': 'اصفهان',\n",
       "  'ResidancePhoneNumber': '03132688715',\n",
       "  'ResidancePostalCode': '8153943671',\n",
       "  'EmploymentStatusTitle': 'خانه دار',\n",
       "  'NameOfEmploymentLocation': '',\n",
       "  'JobTitle': '',\n",
       "  'JobUnitName': '',\n",
       "  'JobPosition': '',\n",
       "  'CountryOfJobTitle': '',\n",
       "  'ProvinceOfJobTitle': '',\n",
       "  'TownshipOfJobTitle': '',\n",
       "  'WorkPhone': '',\n",
       "  'jobPostalCode': ''}}"
      ]
     },
     "execution_count": 20,
     "metadata": {},
     "output_type": "execute_result"
    }
   ],
   "source": [
    "data"
   ]
  },
  {
   "cell_type": "code",
   "execution_count": 21,
   "id": "70007b56",
   "metadata": {},
   "outputs": [],
   "source": [
    "data[\"Resource\"]=[]\n",
    "soup=call_api(\"Resource\")\n",
    "job_elements=soup.find('tbody',id=\"ResourceList\")"
   ]
  },
  {
   "cell_type": "code",
   "execution_count": 22,
   "id": "88c2bff2",
   "metadata": {},
   "outputs": [],
   "source": [
    "temp1=[]\n",
    "for item in job_elements.find_all('tr'):\n",
    "    temp2=[]\n",
    "    for iitem in item.find_all(\"td\"):\n",
    "        temp2.append(iitem.text)\n",
    "    temp1.append(temp2) \n",
    "data[\"Resource\"]=temp1"
   ]
  },
  {
   "cell_type": "code",
   "execution_count": 23,
   "id": "f059f7fe",
   "metadata": {},
   "outputs": [
    {
     "data": {
      "text/plain": [
       "{'NationalCode': '1292568951',\n",
       " 'Name': 'علی',\n",
       " 'LastName': 'لقمانی',\n",
       " 'FatherName': 'تقی',\n",
       " 'ShId': '4047',\n",
       " 'NationalityNavigation': 'ایرانی',\n",
       " 'ReligionNavigation': 'شیعه',\n",
       " 'GenderNavigation': 'مرد',\n",
       " 'MaritialStatusNavigation': 'متاهل',\n",
       " 'Persian_BirthDate': '۱۳۶۴/۰۵/۰۳',\n",
       " 'BornCountryTitle': 'ایران',\n",
       " 'BornProvinceTitle': 'اصفهان',\n",
       " 'BornTownshipTitle': 'اصفهان',\n",
       " 'Persian_IssuanceCertificate': '۱۳۶۴/۱۰/۲۴',\n",
       " 'CountryOfIssuanceCertificateTitle': 'ایران',\n",
       " 'ProvinceOfIssuanceCertificateTitle': 'اصفهان',\n",
       " 'TownshipOfIssuanceCertificateTitle': 'اصفهان',\n",
       " 'MilitaryStatusNavigation': 'معاف دائم',\n",
       " 'Persian_ExepmtionDate': '۱۳۹۱/۰۳/۲۲',\n",
       " 'Persian_EndOfMilitaryDate': '',\n",
       " 'Persian_IntroductionDate': '',\n",
       " 'NationalCardImg': '/API/JazbAPI/Images/28344b9f-7b6e-4f3f-8328-b92b82f546ea',\n",
       " 'CertificatePageOne': '/API/JazbAPI/Images/7ebe028c-0e60-4701-b7d3-ddf14ed7f423',\n",
       " 'CertificatePageTwo': '/API/JazbAPI/Images/bff80c7f-1c9a-43f2-894d-c6a03f2da1a7',\n",
       " 'CertificatePageThree': '/API/JazbAPI/Images/07888e46-3802-43ff-88b4-e169f3fa9e20',\n",
       " 'CertificatePageFour': '/API/JazbAPI/Images/1d0a2362-cbec-4b77-b1dc-90d20ce259f1',\n",
       " 'CertificatePageFive': '/API/JazbAPI/Images/6f1e797d-42cd-45a3-892c-c128e603251b',\n",
       " 'MilitaryDoc': '/API/JazbAPI/Images/043d4a0c-fa8f-42ba-be41-259dd58f35b3',\n",
       " 'Contact.EssentialPhone': '09133006320',\n",
       " 'Contact.ResidancePhoneNumber': '03132688715',\n",
       " 'Address.Persian_StartDateOfResidence': '۱۳۹۷/۰۶/۰۱',\n",
       " 'Address.CountryTitle': 'ایران',\n",
       " 'Address.ProvinceTitle': 'اصفهان',\n",
       " 'Address.TownshipTitle': 'اصفهان',\n",
       " 'Address.PostalCode': '8153943671',\n",
       " 'Address.AddressValue': '\\nخ شریف واقفی، کوچه مهدی نژاد، کوچه مسائلی، پلاک ۱۸',\n",
       " 'sop': {'NationalityTitle': 'ایرانی',\n",
       "  'CitizenshipTitle': 'ایرانی',\n",
       "  'NationalCode': '1270295632',\n",
       "  'Name': 'سپیده',\n",
       "  'LastName': 'اخوان بی تقصیر',\n",
       "  'FatherName': 'رضا',\n",
       "  'Persian_BirthDate': '۱۳۶۸/۰۹/۰۳',\n",
       "  'ReligionTitle': 'شیعه',\n",
       "  'MobilePhoneNumber': '09128152658',\n",
       "  'Email': 'sepideh.a.b@gmail.com',\n",
       "  'ResidanceCountryTitle': 'ایران',\n",
       "  'ResidanceProvinceTitle': 'اصفهان',\n",
       "  'ResidanceTownshipTitle': 'اصفهان',\n",
       "  'ResidancePhoneNumber': '03132688715',\n",
       "  'ResidancePostalCode': '8153943671',\n",
       "  'EmploymentStatusTitle': 'خانه دار',\n",
       "  'NameOfEmploymentLocation': '',\n",
       "  'JobTitle': '',\n",
       "  'JobUnitName': '',\n",
       "  'JobPosition': '',\n",
       "  'CountryOfJobTitle': '',\n",
       "  'ProvinceOfJobTitle': '',\n",
       "  'TownshipOfJobTitle': '',\n",
       "  'WorkPhone': '',\n",
       "  'jobPostalCode': ''},\n",
       " 'Resource': [['1',\n",
       "   '\\nعلمی\\n',\n",
       "   '\\nمحمد\\n',\n",
       "   '\\nدانش\\n',\n",
       "   '\\nهمکار علمی\\n',\n",
       "   '\\n10\\n',\n",
       "   '\\n\\n\\n\\n'],\n",
       "  ['2',\n",
       "   '\\nعلمی\\n',\n",
       "   '\\nرضا\\n',\n",
       "   '\\nتیکنی\\n',\n",
       "   '\\nهمکار علمی\\n',\n",
       "   '\\n5\\n',\n",
       "   '\\n\\n\\n\\n'],\n",
       "  ['3',\n",
       "   '\\nعمومی\\n',\n",
       "   '\\nاحمد\\n',\n",
       "   '\\nسوهانکار\\n',\n",
       "   '\\nهمکار\\n',\n",
       "   '\\n5\\n',\n",
       "   '\\n\\n\\n\\n'],\n",
       "  ['4',\n",
       "   '\\nعلمی\\n',\n",
       "   '\\nسعید \\n',\n",
       "   '\\nضیائی راد\\n',\n",
       "   '\\nهمکار علمی\\n',\n",
       "   '\\n5\\n',\n",
       "   '\\n\\n\\n\\n'],\n",
       "  ['5',\n",
       "   '\\nعمومی\\n',\n",
       "   '\\nصالح\\n',\n",
       "   '\\nاکبرزاده\\n',\n",
       "   '\\nهمکار\\n',\n",
       "   '\\n5\\n',\n",
       "   '\\n\\n\\n\\n'],\n",
       "  ['6',\n",
       "   '\\nعلمی\\n',\n",
       "   '\\nرضا\\n',\n",
       "   '\\nجعفری ندوشن\\n',\n",
       "   '\\nهمکار علمی\\n',\n",
       "   '\\n5\\n',\n",
       "   '\\n\\n\\n\\n'],\n",
       "  ['7',\n",
       "   '\\nعمومی\\n',\n",
       "   '\\nمهدی\\n',\n",
       "   '\\nجوانبخت\\n',\n",
       "   '\\nهمکار\\n',\n",
       "   '\\n5\\n',\n",
       "   '\\n\\n\\n\\n'],\n",
       "  ['8',\n",
       "   '\\nعمومی\\n',\n",
       "   '\\nمحمد\\n',\n",
       "   '\\nمشایخی\\n',\n",
       "   '\\nهمکار\\n',\n",
       "   '\\n5\\n',\n",
       "   '\\n\\n\\n\\n']]}"
      ]
     },
     "execution_count": 23,
     "metadata": {},
     "output_type": "execute_result"
    }
   ],
   "source": [
    "data"
   ]
  },
  {
   "cell_type": "code",
   "execution_count": null,
   "id": "68f74e42",
   "metadata": {},
   "outputs": [],
   "source": []
  }
 ],
 "metadata": {
  "kernelspec": {
   "display_name": "Python 3 (ipykernel)",
   "language": "python",
   "name": "python3"
  },
  "language_info": {
   "codemirror_mode": {
    "name": "ipython",
    "version": 3
   },
   "file_extension": ".py",
   "mimetype": "text/x-python",
   "name": "python",
   "nbconvert_exporter": "python",
   "pygments_lexer": "ipython3",
   "version": "3.8.10"
  }
 },
 "nbformat": 4,
 "nbformat_minor": 5
}
