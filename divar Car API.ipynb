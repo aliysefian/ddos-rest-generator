{
 "cells": [
  {
   "cell_type": "code",
   "execution_count": 1,
   "id": "6dccdcab",
   "metadata": {},
   "outputs": [
    {
     "name": "stdout",
     "output_type": "stream",
     "text": [
      "1644696564.529323\n"
     ]
    }
   ],
   "source": [
    "from datetime import datetime,timedelta\n",
    "print(datetime.now().timestamp())"
   ]
  },
  {
   "cell_type": "code",
   "execution_count": 30,
   "id": "e09f2874",
   "metadata": {},
   "outputs": [
    {
     "data": {
      "text/plain": [
       "16"
      ]
     },
     "execution_count": 30,
     "metadata": {},
     "output_type": "execute_result"
    }
   ],
   "source": [
    "ss=datetime.now().timestamp()*1000000\n",
    "len(str(int(ss)))"
   ]
  },
  {
   "cell_type": "code",
   "execution_count": null,
   "id": "95fe89d3",
   "metadata": {},
   "outputs": [],
   "source": []
  },
  {
   "cell_type": "code",
   "execution_count": 15,
   "id": "f991347e",
   "metadata": {},
   "outputs": [
    {
     "data": {
      "text/plain": [
       "float"
      ]
     },
     "execution_count": 15,
     "metadata": {},
     "output_type": "execute_result"
    }
   ],
   "source": [
    "type(ss)"
   ]
  },
  {
   "cell_type": "code",
   "execution_count": 8,
   "id": "b9d2aecc",
   "metadata": {},
   "outputs": [
    {
     "data": {
      "text/plain": [
       "16"
      ]
     },
     "execution_count": 8,
     "metadata": {},
     "output_type": "execute_result"
    }
   ],
   "source": [
    "len(\"1644677364155524\")"
   ]
  },
  {
   "cell_type": "code",
   "execution_count": null,
   "id": "2a37395d",
   "metadata": {},
   "outputs": [],
   "source": [
    "from datetime import datetime\n",
    "import pytz\n"
   ]
  },
  {
   "cell_type": "code",
   "execution_count": 101,
   "id": "8c7735e1",
   "metadata": {},
   "outputs": [
    {
     "name": "stdout",
     "output_type": "stream",
     "text": [
      "1644677178884517\n"
     ]
    }
   ],
   "source": [
    "import requests\n",
    "import json\n",
    "ss=(datetime.now() - timedelta(minutes=5)).timestamp()*1000000\n",
    "timee=str(int(ss))\n",
    "\n",
    "url = \"https://api.divar.ir/v8/search/9/ROOT\"\n",
    "\n",
    "# payload=\"\"\"{\\\"json_schema\\\":{\\\"category\\\":{\\\"value\\\":\\\"ROOT\\\"}},\\\"last-post-date\\\":{}}\"\"\".format(timee)\n",
    "payload=json.dumps({\"json_schema\":{\"category\":{\"value\":\"ROOT\"}},\"last-post-date\":1644677364155524})\n",
    "# payload=json.dumps({\"json_schema\":{\"category\":{\"value\":\"light\"},\"brand_model\":{\"value\":[\"Pride\"]}},\"last-post-date\":1644688085681133})\n",
    "\n",
    "headers = {\n",
    "  'Content-Type': 'text/plain',\n",
    "  'Cookie': 'did=ec3de232-193d-4d29-8d19-5c210cd0e20d; ga=GA1.2.958343835.1628941508; _gcl_au=1.1.1710749390.1637677108; multi-city=isfahan|; city=isfahan; _gid=GA1.2.958373558.1644561048; _gat_UA-32884252-2=1'\n",
    "}\n",
    "\n",
    "response = requests.request(\"POST\", url, headers=headers, data=payload)\n",
    "\n",
    "print(response.json()['last_post_date'])\n"
   ]
  },
  {
   "cell_type": "code",
   "execution_count": 109,
   "id": "af6bb37e",
   "metadata": {
    "scrolled": true
   },
   "outputs": [
    {
     "name": "stdout",
     "output_type": "stream",
     "text": [
      "1644693891216688\n",
      "1644693891216688\n",
      "1644685293570988\n",
      "1644682737378418\n",
      "1644679884270357\n",
      "1644675721684244\n",
      "1644670517691236\n",
      "1644667048666728\n",
      "1644664339668747\n",
      "1644661524936794\n",
      "1644658747288626\n"
     ]
    },
    {
     "data": {
      "text/html": [
       "<div>\n",
       "<style scoped>\n",
       "    .dataframe tbody tr th:only-of-type {\n",
       "        vertical-align: middle;\n",
       "    }\n",
       "\n",
       "    .dataframe tbody tr th {\n",
       "        vertical-align: top;\n",
       "    }\n",
       "\n",
       "    .dataframe thead th {\n",
       "        text-align: right;\n",
       "    }\n",
       "</style>\n",
       "<table border=\"1\" class=\"dataframe\">\n",
       "  <thead>\n",
       "    <tr style=\"text-align: right;\">\n",
       "      <th></th>\n",
       "      <th>description</th>\n",
       "      <th>business_type</th>\n",
       "      <th>price</th>\n",
       "      <th>brand_model</th>\n",
       "      <th>city</th>\n",
       "      <th>token</th>\n",
       "      <th>title</th>\n",
       "      <th>list_data</th>\n",
       "      <th>web_images</th>\n",
       "    </tr>\n",
       "  </thead>\n",
       "  <tbody>\n",
       "    <tr>\n",
       "      <th>0</th>\n",
       "      <td>گلگیر جلو سمت شاگرد رنگ شدگی دارد.</td>\n",
       "      <td>personal</td>\n",
       "      <td>125000000.0</td>\n",
       "      <td>Pride 131 SE</td>\n",
       "      <td>isfahan</td>\n",
       "      <td>gYIUgnwD</td>\n",
       "      <td>پراید 131 SE، مدل ۱۳۹۴</td>\n",
       "      <td>[{'format': 'group_info_row', 'title': 'اطلاعا...</td>\n",
       "      <td>[[{'src': 'https://s100.divarcdn.com/static/pi...</td>\n",
       "    </tr>\n",
       "    <tr>\n",
       "      <th>1</th>\n",
       "      <td>سلام پراید ۱۳۱ یگانه کم کار فقط یک در استوک تع...</td>\n",
       "      <td>personal</td>\n",
       "      <td>160000000.0</td>\n",
       "      <td>Pride 131 EX</td>\n",
       "      <td>isfahan</td>\n",
       "      <td>gYIQwtk6</td>\n",
       "      <td>پراید 131 EX، مدل ۱۳۹۹</td>\n",
       "      <td>[{'format': 'group_info_row', 'title': 'اطلاعا...</td>\n",
       "      <td>[[{'src': 'https://s100.divarcdn.com/static/pi...</td>\n",
       "    </tr>\n",
       "    <tr>\n",
       "      <th>2</th>\n",
       "      <td>پراید ۹۰ تمام رنگ به علت افتاب سوختگی بدون کوچ...</td>\n",
       "      <td>personal</td>\n",
       "      <td>85000000.0</td>\n",
       "      <td>Pride 131 SE</td>\n",
       "      <td>isfahan</td>\n",
       "      <td>gYIUgpLV</td>\n",
       "      <td>پراید 131 SE، مدل ۱۳۹۰</td>\n",
       "      <td>[{'format': 'group_info_row', 'title': 'اطلاعا...</td>\n",
       "      <td>[[{'src': 'https://s100.divarcdn.com/static/pi...</td>\n",
       "    </tr>\n",
       "    <tr>\n",
       "      <th>3</th>\n",
       "      <td>سلام درود\\nپراید مدل 94ماشین یه برگ سند هفتادت...</td>\n",
       "      <td>personal</td>\n",
       "      <td>132000000.0</td>\n",
       "      <td>Pride 131 SX</td>\n",
       "      <td>isfahan</td>\n",
       "      <td>gYIQg-G5</td>\n",
       "      <td>پراید 131 SX، مدل ۱۳۹۴</td>\n",
       "      <td>[{'format': 'group_info_row', 'title': 'اطلاعا...</td>\n",
       "      <td>[]</td>\n",
       "    </tr>\n",
       "    <tr>\n",
       "      <th>4</th>\n",
       "      <td>پیام جواب داده نمیشه فقط تماس به این شماره ***...</td>\n",
       "      <td>personal</td>\n",
       "      <td>NaN</td>\n",
       "      <td>Pride 131 Bi-fuel</td>\n",
       "      <td>isfahan</td>\n",
       "      <td>gYIQQS2B</td>\n",
       "      <td>پراید 131 دوگانه سوز فابریک کارخانه و مدل1387</td>\n",
       "      <td>[{'format': 'group_info_row', 'title': 'اطلاعا...</td>\n",
       "      <td>[]</td>\n",
       "    </tr>\n",
       "    <tr>\n",
       "      <th>...</th>\n",
       "      <td>...</td>\n",
       "      <td>...</td>\n",
       "      <td>...</td>\n",
       "      <td>...</td>\n",
       "      <td>...</td>\n",
       "      <td>...</td>\n",
       "      <td>...</td>\n",
       "      <td>...</td>\n",
       "      <td>...</td>\n",
       "    </tr>\n",
       "    <tr>\n",
       "      <th>235</th>\n",
       "      <td>ماشین سالم و به شرط بسیار تمیز .</td>\n",
       "      <td>personal</td>\n",
       "      <td>140000000.0</td>\n",
       "      <td>Pride 111 EX</td>\n",
       "      <td>isfahan</td>\n",
       "      <td>gYHI3sH-</td>\n",
       "      <td>پراید 111 EX، مدل ۱۳۹۵</td>\n",
       "      <td>[{'format': 'group_info_row', 'title': 'اطلاعا...</td>\n",
       "      <td>[[{'src': 'https://s100.divarcdn.com/static/pi...</td>\n",
       "    </tr>\n",
       "    <tr>\n",
       "      <th>236</th>\n",
       "      <td>با سلام ماشین سالم شاسی ها جلو ضربه جزیی خورده...</td>\n",
       "      <td>personal</td>\n",
       "      <td>57000000.0</td>\n",
       "      <td>Pride Station</td>\n",
       "      <td>isfahan</td>\n",
       "      <td>gYHE37Lg</td>\n",
       "      <td>پرایدفروشی</td>\n",
       "      <td>[{'format': 'group_info_row', 'title': 'اطلاعا...</td>\n",
       "      <td>[[{'src': 'https://s100.divarcdn.com/static/pi...</td>\n",
       "    </tr>\n",
       "    <tr>\n",
       "      <th>237</th>\n",
       "      <td>ماشین سالم وبدون رنگ رینگ اسپرت ودزدگیر وروکش ...</td>\n",
       "      <td>personal</td>\n",
       "      <td>139000000.0</td>\n",
       "      <td>Pride 111 SE</td>\n",
       "      <td>isfahan</td>\n",
       "      <td>gYHEnOj3</td>\n",
       "      <td>پراید ۱۱۱مدل ۹۵ سالم</td>\n",
       "      <td>[{'format': 'group_info_row', 'title': 'اطلاعا...</td>\n",
       "      <td>[[{'src': 'https://s100.divarcdn.com/static/pi...</td>\n",
       "    </tr>\n",
       "    <tr>\n",
       "      <th>238</th>\n",
       "      <td>کارمندی مدل آخر 98کمکار بدون رنگ و ضربه نامه ک...</td>\n",
       "      <td>personal</td>\n",
       "      <td>167000000.0</td>\n",
       "      <td>Pride 111 SE</td>\n",
       "      <td>isfahan</td>\n",
       "      <td>QY_T71Sa</td>\n",
       "      <td>پراید 111 SE، مدل ۱۳۹۸در حد</td>\n",
       "      <td>[{'format': 'group_info_row', 'title': 'اطلاعا...</td>\n",
       "      <td>[[{'src': 'https://s100.divarcdn.com/static/pi...</td>\n",
       "    </tr>\n",
       "    <tr>\n",
       "      <th>239</th>\n",
       "      <td>پراید ۱۱۱ بدون رنگ سالم ۹۵</td>\n",
       "      <td>personal</td>\n",
       "      <td>139000000.0</td>\n",
       "      <td>Pride 111 SE</td>\n",
       "      <td>isfahan</td>\n",
       "      <td>gYH8GVoC</td>\n",
       "      <td>پراید 111 SE، مدل ۱۳۹۵</td>\n",
       "      <td>[{'format': 'group_info_row', 'title': 'اطلاعا...</td>\n",
       "      <td>[]</td>\n",
       "    </tr>\n",
       "  </tbody>\n",
       "</table>\n",
       "<p>240 rows × 9 columns</p>\n",
       "</div>"
      ],
      "text/plain": [
       "                                           description business_type  \\\n",
       "0                   گلگیر جلو سمت شاگرد رنگ شدگی دارد.      personal   \n",
       "1    سلام پراید ۱۳۱ یگانه کم کار فقط یک در استوک تع...      personal   \n",
       "2    پراید ۹۰ تمام رنگ به علت افتاب سوختگی بدون کوچ...      personal   \n",
       "3    سلام درود\\nپراید مدل 94ماشین یه برگ سند هفتادت...      personal   \n",
       "4    پیام جواب داده نمیشه فقط تماس به این شماره ***...      personal   \n",
       "..                                                 ...           ...   \n",
       "235                   ماشین سالم و به شرط بسیار تمیز .      personal   \n",
       "236  با سلام ماشین سالم شاسی ها جلو ضربه جزیی خورده...      personal   \n",
       "237  ماشین سالم وبدون رنگ رینگ اسپرت ودزدگیر وروکش ...      personal   \n",
       "238  کارمندی مدل آخر 98کمکار بدون رنگ و ضربه نامه ک...      personal   \n",
       "239                         پراید ۱۱۱ بدون رنگ سالم ۹۵      personal   \n",
       "\n",
       "           price        brand_model     city     token  \\\n",
       "0    125000000.0       Pride 131 SE  isfahan  gYIUgnwD   \n",
       "1    160000000.0       Pride 131 EX  isfahan  gYIQwtk6   \n",
       "2     85000000.0       Pride 131 SE  isfahan  gYIUgpLV   \n",
       "3    132000000.0       Pride 131 SX  isfahan  gYIQg-G5   \n",
       "4            NaN  Pride 131 Bi-fuel  isfahan  gYIQQS2B   \n",
       "..           ...                ...      ...       ...   \n",
       "235  140000000.0       Pride 111 EX  isfahan  gYHI3sH-   \n",
       "236   57000000.0      Pride Station  isfahan  gYHE37Lg   \n",
       "237  139000000.0       Pride 111 SE  isfahan  gYHEnOj3   \n",
       "238  167000000.0       Pride 111 SE  isfahan  QY_T71Sa   \n",
       "239  139000000.0       Pride 111 SE  isfahan  gYH8GVoC   \n",
       "\n",
       "                                             title  \\\n",
       "0                           پراید 131 SE، مدل ۱۳۹۴   \n",
       "1                           پراید 131 EX، مدل ۱۳۹۹   \n",
       "2                           پراید 131 SE، مدل ۱۳۹۰   \n",
       "3                           پراید 131 SX، مدل ۱۳۹۴   \n",
       "4    پراید 131 دوگانه سوز فابریک کارخانه و مدل1387   \n",
       "..                                             ...   \n",
       "235                         پراید 111 EX، مدل ۱۳۹۵   \n",
       "236                                     پرایدفروشی   \n",
       "237                           پراید ۱۱۱مدل ۹۵ سالم   \n",
       "238                    پراید 111 SE، مدل ۱۳۹۸در حد   \n",
       "239                         پراید 111 SE، مدل ۱۳۹۵   \n",
       "\n",
       "                                             list_data  \\\n",
       "0    [{'format': 'group_info_row', 'title': 'اطلاعا...   \n",
       "1    [{'format': 'group_info_row', 'title': 'اطلاعا...   \n",
       "2    [{'format': 'group_info_row', 'title': 'اطلاعا...   \n",
       "3    [{'format': 'group_info_row', 'title': 'اطلاعا...   \n",
       "4    [{'format': 'group_info_row', 'title': 'اطلاعا...   \n",
       "..                                                 ...   \n",
       "235  [{'format': 'group_info_row', 'title': 'اطلاعا...   \n",
       "236  [{'format': 'group_info_row', 'title': 'اطلاعا...   \n",
       "237  [{'format': 'group_info_row', 'title': 'اطلاعا...   \n",
       "238  [{'format': 'group_info_row', 'title': 'اطلاعا...   \n",
       "239  [{'format': 'group_info_row', 'title': 'اطلاعا...   \n",
       "\n",
       "                                            web_images  \n",
       "0    [[{'src': 'https://s100.divarcdn.com/static/pi...  \n",
       "1    [[{'src': 'https://s100.divarcdn.com/static/pi...  \n",
       "2    [[{'src': 'https://s100.divarcdn.com/static/pi...  \n",
       "3                                                   []  \n",
       "4                                                   []  \n",
       "..                                                 ...  \n",
       "235  [[{'src': 'https://s100.divarcdn.com/static/pi...  \n",
       "236  [[{'src': 'https://s100.divarcdn.com/static/pi...  \n",
       "237  [[{'src': 'https://s100.divarcdn.com/static/pi...  \n",
       "238  [[{'src': 'https://s100.divarcdn.com/static/pi...  \n",
       "239                                                 []  \n",
       "\n",
       "[240 rows x 9 columns]"
      ]
     },
     "execution_count": 109,
     "metadata": {},
     "output_type": "execute_result"
    }
   ],
   "source": [
    "import requests\n",
    "import json\n",
    "ss=(datetime.now() - timedelta(minutes=120)).timestamp()*1000000\n",
    "timee=int(ss)\n",
    "print(timee)\n",
    "\n",
    "url = \"https://api.divar.ir/v8/search/4/light\"\n",
    "\n",
    "# payload=\"\"\"{\\\"json_schema\\\":{\\\"category\\\":{\\\"value\\\":\\\"ROOT\\\"}},\\\"last-post-date\\\":{}}\"\"\".format(timee)\n",
    "# payload=json.dumps({\"json_schema\":{\"category\":{\"value\":\"ROOT\"}},\"last-post-date\":1644677364155524})\n",
    "lst_token=[]\n",
    "for item in range(10):\n",
    "    payload=json.dumps({\"json_schema\":{\"category\":{\"value\":\"light\"},\"brand_model\":{\"value\":[\"Pride\"]}},\"last-post-date\":timee})\n",
    "\n",
    "    headers = {\n",
    "      'Content-Type': 'text/plain',\n",
    "      'Cookie': 'did=ec3de232-193d-4d29-8d19-5c210cd0e20d; ga=GA1.2.958343835.1628941508; _gcl_au=1.1.1710749390.1637677108; multi-city=isfahan|; city=isfahan; _gid=GA1.2.958373558.1644561048; _gat_UA-32884252-2=1'\n",
    "    }\n",
    "\n",
    "    response = requests.request(\"POST\", url, headers=headers, data=payload)\n",
    "    res=response.json()\n",
    "    # print(response.json().get('widget_list')[0])\n",
    "    lst_data=res.get('widget_list')\n",
    "    # print(response.json().get('widget_list')[0]['data'].get('token'))\n",
    "    \n",
    "    print(timee)\n",
    "    timee=res['last_post_date']\n",
    "    \n",
    "    for item in lst_data:\n",
    "        lst_token.append(get_details_from_token(item[\"data\"].get(\"token\")))\n",
    "df = pd.DataFrame(lst_token)\n",
    "df"
   ]
  },
  {
   "cell_type": "code",
   "execution_count": 110,
   "id": "8c80997d",
   "metadata": {},
   "outputs": [
    {
     "data": {
      "text/plain": [
       "240"
      ]
     },
     "execution_count": 110,
     "metadata": {},
     "output_type": "execute_result"
    }
   ],
   "source": [
    "len(df.token)"
   ]
  },
  {
   "cell_type": "code",
   "execution_count": 111,
   "id": "75414b17",
   "metadata": {
    "scrolled": true
   },
   "outputs": [
    {
     "data": {
      "text/plain": [
       "240"
      ]
     },
     "execution_count": 111,
     "metadata": {},
     "output_type": "execute_result"
    }
   ],
   "source": [
    "len(df.token.unique())"
   ]
  },
  {
   "cell_type": "code",
   "execution_count": 95,
   "id": "2478ea6d",
   "metadata": {},
   "outputs": [],
   "source": [
    "\n",
    "    \n",
    "    \n",
    "import requests\n",
    "import json\n",
    "import pandas as pd\n",
    "def get_details_from_token(token):\n",
    "    ss=(datetime.now() - timedelta(minutes=5)).timestamp()*1000000\n",
    "    timee=str(int(ss))\n",
    "    url = \"https://api.divar.ir/v5/posts/\"+token\n",
    "\n",
    "\n",
    "    # payload=\"\"\"{\\\"json_schema\\\":{\\\"category\\\":{\\\"value\\\":\\\"ROOT\\\"}},\\\"last-post-date\\\":{}}\"\"\".format(timee)\n",
    "    # payload=json.dumps({\"json_schema\":{\"category\":{\"value\":\"ROOT\"}},\"last-post-date\":1644677364155524})\n",
    "    headers = {\n",
    "      'Content-Type': 'text/plain',\n",
    "      'Cookie': 'did=ec3de232-193d-4d29-8d19-5c210cd0e20d; ga=GA1.2.958343835.1628941508; _gcl_au=1.1.1710749390.1637677108; multi-city=isfahan|; city=isfahan; _gid=GA1.2.958373558.1644561048; _gat_UA-32884252-2=1'\n",
    "    }\n",
    "\n",
    "    response = requests.request(\"GET\", url, headers=headers)\n",
    "\n",
    "    data_get=response.json()\n",
    "    data=data_get.get('data')\n",
    "    widgets=data_get.get('widgets')\n",
    "    ss=[]\n",
    "    pure_data={\n",
    "        \"description\":data.get(\"description\"), \n",
    "        \"business_type\":data.get(\"business_data\")[\"business_type\"],\n",
    "        \"price\":data.get(\"webengage\")[\"price\"],\n",
    "        \"brand_model\":data.get(\"webengage\")[\"brand_model\"],\n",
    "        \"city\":data.get(\"webengage\")[\"city\"],\n",
    "        \"token\":data.get(\"webengage\")[\"token\"],\n",
    "        \"title\":widgets.get(\"header\")[\"title\"],\n",
    "        \"list_data\":widgets.get(\"list_data\"),\n",
    "        \"web_images\":widgets.get(\"web_images\"), \n",
    "\n",
    "    }\n",
    "    ss.append(pure_data)   \n",
    "    return pure_data\n"
   ]
  },
  {
   "cell_type": "code",
   "execution_count": 54,
   "id": "5072085a",
   "metadata": {},
   "outputs": [
    {
     "name": "stdout",
     "output_type": "stream",
     "text": [
      "Requirement already satisfied: pandas in /home/ali/.local/lib/python3.8/site-packages (1.4.1)\r\n",
      "Requirement already satisfied: pytz>=2020.1 in /home/ali/.local/lib/python3.8/site-packages (from pandas) (2021.3)\r\n",
      "Requirement already satisfied: numpy>=1.18.5; platform_machine != \"aarch64\" and platform_machine != \"arm64\" and python_version < \"3.10\" in /home/ali/.local/lib/python3.8/site-packages (from pandas) (1.22.2)\r\n",
      "Requirement already satisfied: python-dateutil>=2.8.1 in /home/ali/.local/lib/python3.8/site-packages (from pandas) (2.8.2)\r\n",
      "Requirement already satisfied: six>=1.5 in /usr/lib/python3/dist-packages (from python-dateutil>=2.8.1->pandas) (1.14.0)\r\n"
     ]
    }
   ],
   "source": [
    "!pip install pandas\n"
   ]
  },
  {
   "cell_type": "code",
   "execution_count": 70,
   "id": "b45b730f",
   "metadata": {
    "scrolled": true
   },
   "outputs": [],
   "source": []
  },
  {
   "cell_type": "code",
   "execution_count": 67,
   "id": "ec415512",
   "metadata": {},
   "outputs": [],
   "source": []
  },
  {
   "cell_type": "code",
   "execution_count": 68,
   "id": "453bf28c",
   "metadata": {
    "scrolled": true
   },
   "outputs": [],
   "source": [
    "df = pd.DataFrame(ss)"
   ]
  },
  {
   "cell_type": "code",
   "execution_count": 69,
   "id": "fef23096",
   "metadata": {},
   "outputs": [
    {
     "data": {
      "text/html": [
       "<div>\n",
       "<style scoped>\n",
       "    .dataframe tbody tr th:only-of-type {\n",
       "        vertical-align: middle;\n",
       "    }\n",
       "\n",
       "    .dataframe tbody tr th {\n",
       "        vertical-align: top;\n",
       "    }\n",
       "\n",
       "    .dataframe thead th {\n",
       "        text-align: right;\n",
       "    }\n",
       "</style>\n",
       "<table border=\"1\" class=\"dataframe\">\n",
       "  <thead>\n",
       "    <tr style=\"text-align: right;\">\n",
       "      <th></th>\n",
       "      <th>description</th>\n",
       "      <th>business_type</th>\n",
       "      <th>price</th>\n",
       "      <th>brand_model</th>\n",
       "      <th>city</th>\n",
       "      <th>token</th>\n",
       "      <th>title</th>\n",
       "      <th>list_data</th>\n",
       "      <th>web_images</th>\n",
       "    </tr>\n",
       "  </thead>\n",
       "  <tbody>\n",
       "    <tr>\n",
       "      <th>0</th>\n",
       "      <td>پراید ١١١ مدل ٩٣ درجه یک استثنایی بدون رنگ . ل...</td>\n",
       "      <td>personal</td>\n",
       "      <td>139000000</td>\n",
       "      <td>Pride 111 SE</td>\n",
       "      <td>isfahan</td>\n",
       "      <td>gYIkQlRE</td>\n",
       "      <td>پراید ١١١ مدل ٩٣</td>\n",
       "      <td>[{'format': 'group_info_row', 'title': 'اطلاعا...</td>\n",
       "      <td>[{'format': 'group_info_row', 'title': 'اطلاعا...</td>\n",
       "    </tr>\n",
       "  </tbody>\n",
       "</table>\n",
       "</div>"
      ],
      "text/plain": [
       "                                         description business_type      price  \\\n",
       "0  پراید ١١١ مدل ٩٣ درجه یک استثنایی بدون رنگ . ل...      personal  139000000   \n",
       "\n",
       "    brand_model     city     token             title  \\\n",
       "0  Pride 111 SE  isfahan  gYIkQlRE  پراید ١١١ مدل ٩٣   \n",
       "\n",
       "                                           list_data  \\\n",
       "0  [{'format': 'group_info_row', 'title': 'اطلاعا...   \n",
       "\n",
       "                                          web_images  \n",
       "0  [{'format': 'group_info_row', 'title': 'اطلاعا...  "
      ]
     },
     "execution_count": 69,
     "metadata": {},
     "output_type": "execute_result"
    }
   ],
   "source": [
    "df"
   ]
  },
  {
   "cell_type": "code",
   "execution_count": null,
   "id": "9fd3f2d4",
   "metadata": {},
   "outputs": [],
   "source": []
  }
 ],
 "metadata": {
  "kernelspec": {
   "display_name": "Python 3 (ipykernel)",
   "language": "python",
   "name": "python3"
  },
  "language_info": {
   "codemirror_mode": {
    "name": "ipython",
    "version": 3
   },
   "file_extension": ".py",
   "mimetype": "text/x-python",
   "name": "python",
   "nbconvert_exporter": "python",
   "pygments_lexer": "ipython3",
   "version": "3.8.10"
  }
 },
 "nbformat": 4,
 "nbformat_minor": 5
}
