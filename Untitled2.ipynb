{
 "cells": [
  {
   "cell_type": "code",
   "execution_count": 5,
   "metadata": {},
   "outputs": [],
   "source": [
    "import requests\n",
    "import json\n",
    "url = 'http://api.smass.ir/fa/service/pattern/send/'\n",
    "    # return results"
   ]
  },
  {
   "cell_type": "code",
   "execution_count": 8,
   "metadata": {},
   "outputs": [
    {
     "name": "stdout",
     "output_type": "stream",
     "text": [
      "{'results': 'None', 'status': '424', 'message': 'الگوی مورد نظر پیدا نشد'}\n",
      "===================================================================================================\n"
     ]
    }
   ],
   "source": [
    "\n",
    "   \n",
    "data = {\n",
    "    \n",
    "    'recipient': \"09211849488\",\n",
    "    'api_key': \"669638ed-a9c5-4876-a3d0-7f74337f397e\"\n",
    "}\n",
    "r = requests.post(url, data=data)\n",
    "results = json.loads(r.text)\n",
    "if results['status'] == 200:\n",
    "    message = results['results']['message']\n",
    "    MessageRecord.objects.create(message=message, sender=results['results']['sender'], recipient=recipient)\n",
    "print(results)\n",
    "print(\"===================================================================================================\")"
   ]
  },
  {
   "cell_type": "code",
   "execution_count": 10,
   "metadata": {},
   "outputs": [
    {
     "name": "stdout",
     "output_type": "stream",
     "text": [
      "Defaulting to user installation because normal site-packages is not writeable\n",
      "Collecting kavenegar\n",
      "  Downloading kavenegar-1.1.2.tar.gz (3.4 kB)\n",
      "Requirement already satisfied: requests>=0.10.8 in /home/ali/.local/lib/python3.6/site-packages (from kavenegar) (2.25.0)\n",
      "Requirement already satisfied: urllib3<1.27,>=1.21.1 in /home/ali/.local/lib/python3.6/site-packages (from requests>=0.10.8->kavenegar) (1.26.2)\n",
      "Requirement already satisfied: chardet<4,>=3.0.2 in /usr/lib/python3/dist-packages (from requests>=0.10.8->kavenegar) (3.0.4)\n",
      "Requirement already satisfied: idna<3,>=2.5 in /home/ali/.local/lib/python3.6/site-packages (from requests>=0.10.8->kavenegar) (2.10)\n",
      "Requirement already satisfied: certifi>=2017.4.17 in /home/ali/.local/lib/python3.6/site-packages (from requests>=0.10.8->kavenegar) (2020.11.8)\n",
      "Building wheels for collected packages: kavenegar\n",
      "  Building wheel for kavenegar (setup.py) ... \u001b[?25ldone\n",
      "\u001b[?25h  Created wheel for kavenegar: filename=kavenegar-1.1.2-py3-none-any.whl size=3150 sha256=bd661bb824a5bb21fdafc9b11ce36c3a5919ca47a76933207da1907c32116148\n",
      "  Stored in directory: /home/ali/.cache/pip/wheels/18/18/f2/3e8f85b28832c5873cf8ece673bb524057690da445ee6effdb\n",
      "Successfully built kavenegar\n",
      "Installing collected packages: kavenegar\n",
      "Successfully installed kavenegar-1.1.2\n",
      "\u001b[33mWARNING: You are using pip version 20.1.1; however, version 21.3.1 is available.\n",
      "You should consider upgrading via the '/usr/bin/python3 -m pip install --upgrade pip' command.\u001b[0m\n"
     ]
    }
   ],
   "source": [
    "!pip install kavenegar"
   ]
  },
  {
   "cell_type": "code",
   "execution_count": 13,
   "metadata": {},
   "outputs": [
    {
     "ename": "APIException",
     "evalue": "b'APIException[412] \\xd8\\xa7\\xd8\\xb1\\xd8\\xb3\\xd8\\xa7\\xd9\\x84 \\xda\\xa9\\xd9\\x86\\xd9\\x86\\xd8\\xaf\\xd9\\x87 \\xd9\\x86\\xd8\\xa7\\xd9\\x85\\xd8\\xb9\\xd8\\xaa\\xd8\\xa8\\xd8\\xb1 \\xd8\\xa7\\xd8\\xb3\\xd8\\xaa'",
     "output_type": "error",
     "traceback": [
      "\u001b[0;31m---------------------------------------------------------------------------\u001b[0m",
      "\u001b[0;31mAPIException\u001b[0m                              Traceback (most recent call last)",
      "\u001b[0;32m<ipython-input-13-1de8132ee219>\u001b[0m in \u001b[0;36m<module>\u001b[0;34m\u001b[0m\n\u001b[1;32m      2\u001b[0m \u001b[0mapi\u001b[0m \u001b[0;34m=\u001b[0m \u001b[0mKavenegarAPI\u001b[0m\u001b[0;34m(\u001b[0m\u001b[0;34m'445137542B426C31472B62516E614F6B31316C734947384A78544B774D75574562706A6C327442733172733D'\u001b[0m\u001b[0;34m)\u001b[0m\u001b[0;34m\u001b[0m\u001b[0;34m\u001b[0m\u001b[0m\n\u001b[1;32m      3\u001b[0m \u001b[0mparams\u001b[0m \u001b[0;34m=\u001b[0m \u001b[0;34m{\u001b[0m \u001b[0;34m'sender'\u001b[0m \u001b[0;34m:\u001b[0m \u001b[0;34m'100047778'\u001b[0m\u001b[0;34m,\u001b[0m \u001b[0;34m'receptor'\u001b[0m\u001b[0;34m:\u001b[0m \u001b[0;34m'09211849488'\u001b[0m\u001b[0;34m,\u001b[0m \u001b[0;34m'message'\u001b[0m \u001b[0;34m:\u001b[0m\u001b[0;34m'.وب سرویس پیام کوتاه کاوه نگار'\u001b[0m \u001b[0;34m}\u001b[0m\u001b[0;34m\u001b[0m\u001b[0;34m\u001b[0m\u001b[0m\n\u001b[0;32m----> 4\u001b[0;31m \u001b[0mresponse\u001b[0m \u001b[0;34m=\u001b[0m \u001b[0mapi\u001b[0m\u001b[0;34m.\u001b[0m\u001b[0msms_send\u001b[0m\u001b[0;34m(\u001b[0m \u001b[0mparams\u001b[0m\u001b[0;34m)\u001b[0m\u001b[0;34m\u001b[0m\u001b[0;34m\u001b[0m\u001b[0m\n\u001b[0m",
      "\u001b[0;32m~/.local/lib/python3.6/site-packages/kavenegar.py\u001b[0m in \u001b[0;36msms_send\u001b[0;34m(self, params)\u001b[0m\n\u001b[1;32m     46\u001b[0m \u001b[0;34m\u001b[0m\u001b[0m\n\u001b[1;32m     47\u001b[0m     \u001b[0;32mdef\u001b[0m \u001b[0msms_send\u001b[0m\u001b[0;34m(\u001b[0m\u001b[0mself\u001b[0m\u001b[0;34m,\u001b[0m \u001b[0mparams\u001b[0m\u001b[0;34m=\u001b[0m\u001b[0;32mNone\u001b[0m\u001b[0;34m)\u001b[0m\u001b[0;34m:\u001b[0m\u001b[0;34m\u001b[0m\u001b[0;34m\u001b[0m\u001b[0m\n\u001b[0;32m---> 48\u001b[0;31m         \u001b[0;32mreturn\u001b[0m \u001b[0mself\u001b[0m\u001b[0;34m.\u001b[0m\u001b[0m_request\u001b[0m\u001b[0;34m(\u001b[0m\u001b[0;34m'sms'\u001b[0m\u001b[0;34m,\u001b[0m \u001b[0;34m'send'\u001b[0m\u001b[0;34m,\u001b[0m\u001b[0mparams\u001b[0m\u001b[0;34m)\u001b[0m\u001b[0;34m\u001b[0m\u001b[0;34m\u001b[0m\u001b[0m\n\u001b[0m\u001b[1;32m     49\u001b[0m \u001b[0;34m\u001b[0m\u001b[0m\n\u001b[1;32m     50\u001b[0m     \u001b[0;32mdef\u001b[0m \u001b[0msms_sendarray\u001b[0m\u001b[0;34m(\u001b[0m\u001b[0mself\u001b[0m\u001b[0;34m,\u001b[0m \u001b[0mparams\u001b[0m\u001b[0;34m=\u001b[0m\u001b[0;32mNone\u001b[0m\u001b[0;34m)\u001b[0m\u001b[0;34m:\u001b[0m\u001b[0;34m\u001b[0m\u001b[0;34m\u001b[0m\u001b[0m\n",
      "\u001b[0;32m~/.local/lib/python3.6/site-packages/kavenegar.py\u001b[0m in \u001b[0;36m_request\u001b[0;34m(self, action, method, params)\u001b[0m\n\u001b[1;32m     38\u001b[0m                     \u001b[0mresponse\u001b[0m\u001b[0;34m=\u001b[0m\u001b[0mresponse\u001b[0m\u001b[0;34m[\u001b[0m\u001b[0;34m'entries'\u001b[0m\u001b[0;34m]\u001b[0m\u001b[0;34m\u001b[0m\u001b[0;34m\u001b[0m\u001b[0m\n\u001b[1;32m     39\u001b[0m                 \u001b[0;32melse\u001b[0m\u001b[0;34m:\u001b[0m\u001b[0;34m\u001b[0m\u001b[0;34m\u001b[0m\u001b[0m\n\u001b[0;32m---> 40\u001b[0;31m                     \u001b[0;32mraise\u001b[0m \u001b[0mAPIException\u001b[0m\u001b[0;34m(\u001b[0m\u001b[0;34m(\u001b[0m\u001b[0;34mu'APIException[%s] %s'\u001b[0m \u001b[0;34m%\u001b[0m \u001b[0;34m(\u001b[0m\u001b[0mresponse\u001b[0m\u001b[0;34m[\u001b[0m\u001b[0;34m'return'\u001b[0m\u001b[0;34m]\u001b[0m\u001b[0;34m[\u001b[0m\u001b[0;34m'status'\u001b[0m\u001b[0;34m]\u001b[0m\u001b[0;34m,\u001b[0m\u001b[0mresponse\u001b[0m\u001b[0;34m[\u001b[0m\u001b[0;34m'return'\u001b[0m\u001b[0;34m]\u001b[0m\u001b[0;34m[\u001b[0m\u001b[0;34m'message'\u001b[0m\u001b[0;34m]\u001b[0m\u001b[0;34m)\u001b[0m\u001b[0;34m)\u001b[0m\u001b[0;34m.\u001b[0m\u001b[0mencode\u001b[0m\u001b[0;34m(\u001b[0m\u001b[0;34m'utf-8'\u001b[0m\u001b[0;34m)\u001b[0m\u001b[0;34m)\u001b[0m\u001b[0;34m\u001b[0m\u001b[0;34m\u001b[0m\u001b[0m\n\u001b[0m\u001b[1;32m     41\u001b[0m             \u001b[0;32mexcept\u001b[0m \u001b[0mValueError\u001b[0m \u001b[0;32mas\u001b[0m \u001b[0me\u001b[0m\u001b[0;34m:\u001b[0m\u001b[0;34m\u001b[0m\u001b[0;34m\u001b[0m\u001b[0m\n\u001b[1;32m     42\u001b[0m                 \u001b[0;32mraise\u001b[0m \u001b[0mHTTPException\u001b[0m\u001b[0;34m(\u001b[0m\u001b[0me\u001b[0m\u001b[0;34m)\u001b[0m\u001b[0;34m\u001b[0m\u001b[0;34m\u001b[0m\u001b[0m\n",
      "\u001b[0;31mAPIException\u001b[0m: b'APIException[412] \\xd8\\xa7\\xd8\\xb1\\xd8\\xb3\\xd8\\xa7\\xd9\\x84 \\xda\\xa9\\xd9\\x86\\xd9\\x86\\xd8\\xaf\\xd9\\x87 \\xd9\\x86\\xd8\\xa7\\xd9\\x85\\xd8\\xb9\\xd8\\xaa\\xd8\\xa8\\xd8\\xb1 \\xd8\\xa7\\xd8\\xb3\\xd8\\xaa'"
     ]
    }
   ],
   "source": [
    "from kavenegar import *\n",
    "api = KavenegarAPI('445137542B426C31472B62516E614F6B31316C734947384A78544B774D75574562706A6C327442733172733D')\n",
    "params = { 'sender' : '100047778', 'receptor': '09211849488', 'message' :'.وب سرویس پیام کوتاه کاوه نگار' }\n",
    "response = api.sms_send( params)"
   ]
  },
  {
   "cell_type": "code",
   "execution_count": null,
   "metadata": {},
   "outputs": [],
   "source": []
  }
 ],
 "metadata": {
  "kernelspec": {
   "display_name": "Python 3",
   "language": "python",
   "name": "python3"
  },
  "language_info": {
   "codemirror_mode": {
    "name": "ipython",
    "version": 3
   },
   "file_extension": ".py",
   "mimetype": "text/x-python",
   "name": "python",
   "nbconvert_exporter": "python",
   "pygments_lexer": "ipython3",
   "version": "3.6.9"
  }
 },
 "nbformat": 4,
 "nbformat_minor": 4
}
