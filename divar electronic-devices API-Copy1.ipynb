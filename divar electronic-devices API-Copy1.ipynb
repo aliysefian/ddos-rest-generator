{
 "cells": [
  {
   "cell_type": "code",
   "execution_count": 1,
   "id": "6dccdcab",
   "metadata": {},
   "outputs": [
    {
     "name": "stdout",
     "output_type": "stream",
     "text": [
      "1644706200.918053\n"
     ]
    }
   ],
   "source": [
    "from datetime import datetime,timedelta\n",
    "print(datetime.now().timestamp())"
   ]
  },
  {
   "cell_type": "code",
   "execution_count": 2,
   "id": "2a37395d",
   "metadata": {},
   "outputs": [],
   "source": [
    "from datetime import datetime\n",
    "import pytz\n"
   ]
  },
  {
   "cell_type": "code",
   "execution_count": 3,
   "id": "8c7735e1",
   "metadata": {},
   "outputs": [
    {
     "name": "stdout",
     "output_type": "stream",
     "text": [
      "1644700636579527\n"
     ]
    }
   ],
   "source": [
    "import requests\n",
    "import json\n",
    "ss=(datetime.now() - timedelta(minutes=5)).timestamp()*1000000\n",
    "timee=str(int(ss))\n",
    "\n",
    "url = \"https://api.divar.ir/v8/search/4/electronic-devices\"\n",
    "\n",
    "\n",
    "# payload=\"\"\"{\\\"json_schema\\\":{\\\"category\\\":{\\\"value\\\":\\\"ROOT\\\"}},\\\"last-post-date\\\":{}}\"\"\".format(timee)\n",
    "payload=json.dumps({\"json_schema\":{\"category\":{\"value\":\"electronic-devices\"}},\"last-post-date\":1644700677324761})\n",
    "# payload=json.dumps({\"json_schema\":{\"category\":{\"value\":\"light\"},\"brand_model\":{\"value\":[\"Pride\"]}},\"last-post-date\":1644688085681133})\n",
    "\n",
    "headers = {\n",
    "  'Content-Type': 'text/plain',\n",
    "  'Cookie': 'did=ec3de232-193d-4d29-8d19-5c210cd0e20d; ga=GA1.2.958343835.1628941508; _gcl_au=1.1.1710749390.1637677108; multi-city=isfahan|; city=isfahan; _gid=GA1.2.958373558.1644561048; _gat_UA-32884252-2=1'\n",
    "}\n",
    "\n",
    "response = requests.request(\"POST\", url, headers=headers, data=payload)\n",
    "\n",
    "print(response.json()['last_post_date'])\n"
   ]
  },
  {
   "cell_type": "code",
   "execution_count": 4,
   "id": "618356ef",
   "metadata": {},
   "outputs": [],
   "source": [
    "\n",
    "    \n",
    "    \n",
    "import requests\n",
    "import json\n",
    "import pandas as pd\n",
    "def get_details_from_token(token):\n",
    "    ss=(datetime.now() - timedelta(minutes=5)).timestamp()*1000000\n",
    "    timee=str(int(ss))\n",
    "    url = \"https://api.divar.ir/v5/posts/\"+token\n",
    "\n",
    "\n",
    "    # payload=\"\"\"{\\\"json_schema\\\":{\\\"category\\\":{\\\"value\\\":\\\"ROOT\\\"}},\\\"last-post-date\\\":{}}\"\"\".format(timee)\n",
    "    # payload=json.dumps({\"json_schema\":{\"category\":{\"value\":\"ROOT\"}},\"last-post-date\":1644677364155524})\n",
    "    headers = {\n",
    "      'Content-Type': 'text/plain',\n",
    "      'Cookie': 'did=ec3de232-193d-4d29-8d19-5c210cd0e20d; ga=GA1.2.958343835.1628941508; _gcl_au=1.1.1710749390.1637677108; multi-city=isfahan|; city=isfahan; _gid=GA1.2.958373558.1644561048; _gat_UA-32884252-2=1'\n",
    "    }\n",
    "\n",
    "    response = requests.request(\"GET\", url, headers=headers)\n",
    "\n",
    "    data_get=response.json()\n",
    "    data=data_get.get('data')\n",
    "    widgets=data_get.get('widgets')\n",
    "    ss=[]\n",
    "    pure_data={\n",
    "        \"description\":data.get(\"description\"), \n",
    "        \"business_type\":data.get(\"business_data\")[\"business_type\"],\n",
    "        \"price\":data.get(\"webengage\")[\"price\"],\n",
    "        \"brand_model\":data.get(\"webengage\")[\"brand_model\"],\n",
    "        \"city\":data.get(\"webengage\")[\"city\"],\n",
    "        \"token\":data.get(\"webengage\")[\"token\"],\n",
    "        \"title\":widgets.get(\"header\")[\"title\"],\n",
    "          \"date\":widgets.get(\"header\")[\"date\"],\n",
    "        \"list_data\":widgets.get(\"list_data\"),\n",
    "        \"web_images\":widgets.get(\"web_images\"), \n",
    "\n",
    "    }\n",
    "    ss.append(pure_data)   \n",
    "    return pure_data\n"
   ]
  },
  {
   "cell_type": "code",
   "execution_count": 5,
   "id": "87747615",
   "metadata": {
    "scrolled": true
   },
   "outputs": [
    {
     "name": "stdout",
     "output_type": "stream",
     "text": [
      "1644699001431471\n",
      "1644699001431471\n",
      "1644697050584614\n",
      "1644696216508756\n",
      "1644695259766357\n",
      "1644694425889134\n",
      "1644693174970749\n",
      "1644692337785959\n",
      "1644691768192048\n",
      "1644690960590095\n",
      "1644689749965684\n"
     ]
    }
   ],
   "source": [
    "import requests\n",
    "import json\n",
    "ss=(datetime.now() - timedelta(minutes=20)).timestamp()*1000000\n",
    "timee=int(ss)\n",
    "print(timee)\n",
    "\n",
    "url = \"https://api.divar.ir/v8/search/4/electronic-devices\"\n",
    "\n",
    "\n",
    "# payload=\"\"\"{\\\"json_schema\\\":{\\\"category\\\":{\\\"value\\\":\\\"ROOT\\\"}},\\\"last-post-date\\\":{}}\"\"\".format(timee)\n",
    "# payload=json.dumps({\"json_schema\":{\"category\":{\"value\":\"ROOT\"}},\"last-post-date\":1644677364155524})\n",
    "lst_token=[]\n",
    "for item in range(10):\n",
    "    payload=json.dumps({\"json_schema\":{\"category\":{\"value\":\"electronic-devices\"}},\"last-post-date\":timee})\n",
    "\n",
    "    headers = {\n",
    "      'Content-Type': 'text/plain',\n",
    "      'Cookie': 'did=ec3de232-193d-4d29-8d19-5c210cd0e20d; ga=GA1.2.958343835.1628941508; _gcl_au=1.1.1710749390.1637677108; multi-city=isfahan|; city=isfahan; _gid=GA1.2.958373558.1644561048; _gat_UA-32884252-2=1'\n",
    "    }\n",
    "\n",
    "    response = requests.request(\"POST\", url, headers=headers, data=payload)\n",
    "    res=response.json()\n",
    "    # print(response.json().get('widget_list')[0])\n",
    "    lst_data=res.get('widget_list')\n",
    "    # print(response.json().get('widget_list')[0]['data'].get('token'))\n",
    "    \n",
    "    print(timee)\n",
    "    timee=res['last_post_date']\n",
    "    \n",
    "    for item in lst_data:\n",
    "        lst_token.append(get_details_from_token(item[\"data\"].get(\"token\")))\n",
    "df = pd.DataFrame(lst_token)\n"
   ]
  },
  {
   "cell_type": "code",
   "execution_count": 16,
   "id": "46a9a543",
   "metadata": {
    "scrolled": false
   },
   "outputs": [
    {
     "data": {
      "text/html": [
       "<div>\n",
       "<style scoped>\n",
       "    .dataframe tbody tr th:only-of-type {\n",
       "        vertical-align: middle;\n",
       "    }\n",
       "\n",
       "    .dataframe tbody tr th {\n",
       "        vertical-align: top;\n",
       "    }\n",
       "\n",
       "    .dataframe thead th {\n",
       "        text-align: right;\n",
       "    }\n",
       "</style>\n",
       "<table border=\"1\" class=\"dataframe\">\n",
       "  <thead>\n",
       "    <tr style=\"text-align: right;\">\n",
       "      <th></th>\n",
       "      <th>description</th>\n",
       "      <th>business_type</th>\n",
       "      <th>price</th>\n",
       "      <th>brand_model</th>\n",
       "      <th>city</th>\n",
       "      <th>token</th>\n",
       "      <th>title</th>\n",
       "      <th>date</th>\n",
       "      <th>list_data</th>\n",
       "      <th>web_images</th>\n",
       "    </tr>\n",
       "  </thead>\n",
       "  <tbody>\n",
       "    <tr>\n",
       "      <th>81</th>\n",
       "      <td>باسلام‌\\nقیمت‌ عالی‌ عالی‌ بدون‌ هیچ‌ عیبی‌\\nگ...</td>\n",
       "      <td>personal</td>\n",
       "      <td>2600000.0</td>\n",
       "      <td>samsung galaxy a11</td>\n",
       "      <td>isfahan</td>\n",
       "      <td>gYIwg0c7</td>\n",
       "      <td>سامسونگ Galaxy A11 سالم سالم</td>\n",
       "      <td>۳ ساعت پیش</td>\n",
       "      <td>[{'title': 'برند و مدل', 'format': 'string', '...</td>\n",
       "      <td>[[{'src': 'https://s100.divarcdn.com/static/pi...</td>\n",
       "    </tr>\n",
       "    <tr>\n",
       "      <th>89</th>\n",
       "      <td>واسه نیاز مالی میخوام بفروشم گوشی درحد صفره</td>\n",
       "      <td>personal</td>\n",
       "      <td>NaN</td>\n",
       "      <td>huawei y7p</td>\n",
       "      <td>isfahan</td>\n",
       "      <td>gYIkwqvS</td>\n",
       "      <td>هواوی Y7p با حافظهٔ ۶۴ گیگابایت</td>\n",
       "      <td>۳ ساعت پیش</td>\n",
       "      <td>[{'title': 'برند و مدل', 'format': 'string', '...</td>\n",
       "      <td>[[{'src': 'https://s100.divarcdn.com/static/pi...</td>\n",
       "    </tr>\n",
       "    <tr>\n",
       "      <th>95</th>\n",
       "      <td>گوشی بدون عیب و ایراد به شرط ، به علت نیاز مال...</td>\n",
       "      <td>personal</td>\n",
       "      <td>6400000.0</td>\n",
       "      <td>xiaomi poco x3 pro</td>\n",
       "      <td>isfahan</td>\n",
       "      <td>gYIkwKk5</td>\n",
       "      <td>شیائومی Poco X3 Pro با حافظهٔ ۲۵۶ گیگابایت</td>\n",
       "      <td>۳ ساعت پیش</td>\n",
       "      <td>[{'title': 'برند و مدل', 'format': 'string', '...</td>\n",
       "      <td>[[{'src': 'https://s100.divarcdn.com/static/pi...</td>\n",
       "    </tr>\n",
       "    <tr>\n",
       "      <th>234</th>\n",
       "      <td>تلویزیون ال سی دی  بسیار زیبای LG \\nکاملا سالم...</td>\n",
       "      <td>personal</td>\n",
       "      <td>4100000.0</td>\n",
       "      <td>None</td>\n",
       "      <td>isfahan</td>\n",
       "      <td>gYHYPE6Z</td>\n",
       "      <td>تی وی LG 42 inch</td>\n",
       "      <td>۵ ساعت پیش</td>\n",
       "      <td>[{'title': 'وضعیت', 'format': 'string', 'value...</td>\n",
       "      <td>[[{'src': 'https://s100.divarcdn.com/static/pi...</td>\n",
       "    </tr>\n",
       "  </tbody>\n",
       "</table>\n",
       "</div>"
      ],
      "text/plain": [
       "                                           description business_type  \\\n",
       "81   باسلام‌\\nقیمت‌ عالی‌ عالی‌ بدون‌ هیچ‌ عیبی‌\\nگ...      personal   \n",
       "89         واسه نیاز مالی میخوام بفروشم گوشی درحد صفره      personal   \n",
       "95   گوشی بدون عیب و ایراد به شرط ، به علت نیاز مال...      personal   \n",
       "234  تلویزیون ال سی دی  بسیار زیبای LG \\nکاملا سالم...      personal   \n",
       "\n",
       "         price         brand_model     city     token  \\\n",
       "81   2600000.0  samsung galaxy a11  isfahan  gYIwg0c7   \n",
       "89         NaN          huawei y7p  isfahan  gYIkwqvS   \n",
       "95   6400000.0  xiaomi poco x3 pro  isfahan  gYIkwKk5   \n",
       "234  4100000.0                None  isfahan  gYHYPE6Z   \n",
       "\n",
       "                                          title        date  \\\n",
       "81                 سامسونگ Galaxy A11 سالم سالم  ۳ ساعت پیش   \n",
       "89              هواوی Y7p با حافظهٔ ۶۴ گیگابایت  ۳ ساعت پیش   \n",
       "95   شیائومی Poco X3 Pro با حافظهٔ ۲۵۶ گیگابایت  ۳ ساعت پیش   \n",
       "234                            تی وی LG 42 inch  ۵ ساعت پیش   \n",
       "\n",
       "                                             list_data  \\\n",
       "81   [{'title': 'برند و مدل', 'format': 'string', '...   \n",
       "89   [{'title': 'برند و مدل', 'format': 'string', '...   \n",
       "95   [{'title': 'برند و مدل', 'format': 'string', '...   \n",
       "234  [{'title': 'وضعیت', 'format': 'string', 'value...   \n",
       "\n",
       "                                            web_images  \n",
       "81   [[{'src': 'https://s100.divarcdn.com/static/pi...  \n",
       "89   [[{'src': 'https://s100.divarcdn.com/static/pi...  \n",
       "95   [[{'src': 'https://s100.divarcdn.com/static/pi...  \n",
       "234  [[{'src': 'https://s100.divarcdn.com/static/pi...  "
      ]
     },
     "execution_count": 16,
     "metadata": {},
     "output_type": "execute_result"
    }
   ],
   "source": [
    "df"
   ]
  },
  {
   "cell_type": "code",
   "execution_count": 7,
   "id": "63320cbb",
   "metadata": {},
   "outputs": [],
   "source": [
    "searchfor = [ 'مالی']\n",
    "# df[df['description'].str.contains('|'.join(searchfor))]\n",
    "ss=df[df['description'].str.contains('مالی')]"
   ]
  },
  {
   "cell_type": "code",
   "execution_count": 8,
   "id": "18eea2a4",
   "metadata": {
    "scrolled": true
   },
   "outputs": [
    {
     "name": "stdout",
     "output_type": "stream",
     "text": [
      "سامسونگ Galaxy A11 سالم سالم\n",
      "R 2,600,000\n",
      "https://divar.ir/v/gYIwg0c7 باسلام‌\n",
      "قیمت‌ عالی‌ عالی‌ بدون‌ هیچ‌ عیبی‌\n",
      "گوشی‌ سالم‌ سالم‌‌‌ بدون‌ خرابی‌ و هیچ‌ مشکلی‌\n",
      "قیمت‌ خداوکیلی‌ عالیه‌ تخفیف‌ فقط‌ و فقط‌ پای‌ معامله\n",
      "اگهیی‌ها‌زیر‌سه‌تمن‌نیست‌ولی‌من‌زدم2600\n",
      "به‌علت نیاز مالی شدید قیمت گوشی کم زدم که زود فروش بره وگرنه گوشی سالم\n",
      "♧قیمت♧::2800\n",
      "♧رم گوشی♧ ::2\n",
      "♧حافظه گوشی♧ ::32\n",
      "گوشی کم کار هست فقط درحد یه زنگ استفاده شده \n",
      "با کارتن و شارژر و گلس و یک عدد گارد کلا جدا قیمت وسایلش کلا  200 می ارزه\n",
      "========================================\n",
      "هواوی Y7p با حافظهٔ ۶۴ گیگابایت\n",
      "R nan\n",
      "https://divar.ir/v/gYIkwqvS واسه نیاز مالی میخوام بفروشم گوشی درحد صفره\n",
      "========================================\n",
      "شیائومی Poco X3 Pro با حافظهٔ ۲۵۶ گیگابایت\n",
      "R 6,400,000\n",
      "https://divar.ir/v/gYIkwKk5 گوشی بدون عیب و ایراد به شرط ، به علت نیاز مالی میخام بفروشم به خریدار واقعی تخفیف خیلی خوب میدم\n",
      "========================================\n",
      "تی وی LG 42 inch\n",
      "R 4,100,000\n",
      "https://divar.ir/v/gYHYPE6Z تلویزیون ال سی دی  بسیار زیبای LG \n",
      "کاملا سالم بدون تعمیر  ۴۲ اینچ\n",
      "دارای ۳ ورودی اچ دی ام آی \n",
      "۲ ورودی یو اس پی \n",
      "ورودی آنالوگ\n",
      "قیمت استثنایی بدلیل نیاز مالی\n",
      "آدرس خانه اصفهان نوبهار\n",
      "========================================\n"
     ]
    }
   ],
   "source": [
    "for item,row in ss.iterrows():\n",
    "    print(row['title'])\n",
    "    print(\"R {:,.0f}\".format(row['price']))\n",
    "    print(\"https://divar.ir/v/\"+row['token'],row['description'])\n",
    "    print(\"========================================\")"
   ]
  },
  {
   "cell_type": "code",
   "execution_count": 9,
   "id": "5a85e5b3",
   "metadata": {},
   "outputs": [
    {
     "name": "stdout",
     "output_type": "stream",
     "text": [
      "description\n",
      "business_type\n",
      "price\n",
      "brand_model\n",
      "city\n",
      "token\n",
      "title\n",
      "date\n",
      "list_data\n",
      "web_images\n"
     ]
    }
   ],
   "source": [
    "for item in ss:\n",
    "    print(item)"
   ]
  },
  {
   "cell_type": "code",
   "execution_count": 10,
   "id": "d3aed443",
   "metadata": {
    "scrolled": true
   },
   "outputs": [
    {
     "data": {
      "text/plain": [
       "240"
      ]
     },
     "execution_count": 10,
     "metadata": {},
     "output_type": "execute_result"
    }
   ],
   "source": [
    "len(df.token)"
   ]
  },
  {
   "cell_type": "code",
   "execution_count": 11,
   "id": "d6abc9ca",
   "metadata": {
    "scrolled": true
   },
   "outputs": [
    {
     "data": {
      "text/plain": [
       "240"
      ]
     },
     "execution_count": 11,
     "metadata": {},
     "output_type": "execute_result"
    }
   ],
   "source": [
    "len(df.token.unique())"
   ]
  },
  {
   "cell_type": "code",
   "execution_count": null,
   "id": "2478ea6d",
   "metadata": {},
   "outputs": [],
   "source": []
  },
  {
   "cell_type": "code",
   "execution_count": 12,
   "id": "9bbc6b19",
   "metadata": {},
   "outputs": [
    {
     "data": {
      "text/plain": [
       "{'description': 'لبتاب در حد نو .با مشخصات زیر:\\nصفحه نمایش :full hd مات 15.6inch\\nپردازنده :core i5 نسل۸ 8250u \\nگرافیک :انویدیا  gddr5 mx130 2gb\\nرم :۸ گیگابایت ddr4\\nهارد:۱ترابایت\\nباتری:۳۸وات ساعت \\nusb3\\ntype c \\n vgaوhdmi خروجی\\n.فروش فوری .',\n",
       " 'business_type': 'personal',\n",
       " 'price': 16500000,\n",
       " 'brand_model': None,\n",
       " 'city': 'isfahan',\n",
       " 'token': 'gYIQiRTy',\n",
       " 'title': 'لپتاپ asus k542uf i5',\n",
       " 'date': '۱ ساعت پیش',\n",
       " 'list_data': [{'title': 'برند', 'format': 'string', 'value': 'Asus::ایسوس'},\n",
       "  {'title': 'وضعیت', 'format': 'string', 'value': 'در حد نو'},\n",
       "  {'title': 'ظرفیت حافظهٔ داخلی', 'format': 'string', 'value': 'یک ترابایت'},\n",
       "  {'title': 'پردازنده', 'format': 'string', 'value': 'Core i۵'},\n",
       "  {'title': 'حافظهٔ رم', 'format': 'string', 'value': '۸ گیگابایت'},\n",
       "  {'title': 'قیمت', 'format': 'string', 'value': '۱۶٬۵۰۰٬۰۰۰ تومان'}],\n",
       " 'web_images': [[{'src': 'https://s100.divarcdn.com/static/pictures/1644713394/gYIQiRTy.webp',\n",
       "    'type': 'image/webp'},\n",
       "   {'src': 'https://s100.divarcdn.com/static/pictures/1644713394/gYIQiRTy.jpg',\n",
       "    'type': 'image/jpeg'}],\n",
       "  [{'src': 'https://s100.divarcdn.com/static/pictures/1644713394/gYIQiRTy.1.webp',\n",
       "    'type': 'image/webp'},\n",
       "   {'src': 'https://s100.divarcdn.com/static/pictures/1644713394/gYIQiRTy.1.jpg',\n",
       "    'type': 'image/jpeg'}],\n",
       "  [{'src': 'https://s100.divarcdn.com/static/pictures/1644713394/gYIQiRTy.2.webp',\n",
       "    'type': 'image/webp'},\n",
       "   {'src': 'https://s100.divarcdn.com/static/pictures/1644713394/gYIQiRTy.2.jpg',\n",
       "    'type': 'image/jpeg'}]]}"
      ]
     },
     "execution_count": 12,
     "metadata": {},
     "output_type": "execute_result"
    }
   ],
   "source": [
    "\n",
    "get_details_from_token(\"gYIQiRTy\")"
   ]
  },
  {
   "cell_type": "code",
   "execution_count": 13,
   "id": "5072085a",
   "metadata": {},
   "outputs": [
    {
     "name": "stdout",
     "output_type": "stream",
     "text": [
      "Requirement already satisfied: pandas in /home/ali/.local/lib/python3.8/site-packages (1.4.1)\r\n",
      "Requirement already satisfied: numpy>=1.18.5; platform_machine != \"aarch64\" and platform_machine != \"arm64\" and python_version < \"3.10\" in /home/ali/.local/lib/python3.8/site-packages (from pandas) (1.22.2)\r\n",
      "Requirement already satisfied: pytz>=2020.1 in /home/ali/.local/lib/python3.8/site-packages (from pandas) (2021.3)\r\n",
      "Requirement already satisfied: python-dateutil>=2.8.1 in /home/ali/.local/lib/python3.8/site-packages (from pandas) (2.8.2)\r\n",
      "Requirement already satisfied: six>=1.5 in /usr/lib/python3/dist-packages (from python-dateutil>=2.8.1->pandas) (1.14.0)\r\n"
     ]
    }
   ],
   "source": [
    "!pip install pandas\n"
   ]
  },
  {
   "cell_type": "code",
   "execution_count": null,
   "id": "4536c96a",
   "metadata": {
    "scrolled": true
   },
   "outputs": [],
   "source": []
  },
  {
   "cell_type": "code",
   "execution_count": null,
   "id": "050f076f",
   "metadata": {},
   "outputs": [],
   "source": []
  },
  {
   "cell_type": "code",
   "execution_count": 14,
   "id": "d64c7088",
   "metadata": {
    "scrolled": true
   },
   "outputs": [],
   "source": [
    "df = pd.DataFrame(ss)"
   ]
  },
  {
   "cell_type": "code",
   "execution_count": 15,
   "id": "23be7206",
   "metadata": {},
   "outputs": [
    {
     "data": {
      "text/html": [
       "<div>\n",
       "<style scoped>\n",
       "    .dataframe tbody tr th:only-of-type {\n",
       "        vertical-align: middle;\n",
       "    }\n",
       "\n",
       "    .dataframe tbody tr th {\n",
       "        vertical-align: top;\n",
       "    }\n",
       "\n",
       "    .dataframe thead th {\n",
       "        text-align: right;\n",
       "    }\n",
       "</style>\n",
       "<table border=\"1\" class=\"dataframe\">\n",
       "  <thead>\n",
       "    <tr style=\"text-align: right;\">\n",
       "      <th></th>\n",
       "      <th>description</th>\n",
       "      <th>business_type</th>\n",
       "      <th>price</th>\n",
       "      <th>brand_model</th>\n",
       "      <th>city</th>\n",
       "      <th>token</th>\n",
       "      <th>title</th>\n",
       "      <th>date</th>\n",
       "      <th>list_data</th>\n",
       "      <th>web_images</th>\n",
       "    </tr>\n",
       "  </thead>\n",
       "  <tbody>\n",
       "    <tr>\n",
       "      <th>81</th>\n",
       "      <td>باسلام‌\\nقیمت‌ عالی‌ عالی‌ بدون‌ هیچ‌ عیبی‌\\nگ...</td>\n",
       "      <td>personal</td>\n",
       "      <td>2600000.0</td>\n",
       "      <td>samsung galaxy a11</td>\n",
       "      <td>isfahan</td>\n",
       "      <td>gYIwg0c7</td>\n",
       "      <td>سامسونگ Galaxy A11 سالم سالم</td>\n",
       "      <td>۳ ساعت پیش</td>\n",
       "      <td>[{'title': 'برند و مدل', 'format': 'string', '...</td>\n",
       "      <td>[[{'src': 'https://s100.divarcdn.com/static/pi...</td>\n",
       "    </tr>\n",
       "    <tr>\n",
       "      <th>89</th>\n",
       "      <td>واسه نیاز مالی میخوام بفروشم گوشی درحد صفره</td>\n",
       "      <td>personal</td>\n",
       "      <td>NaN</td>\n",
       "      <td>huawei y7p</td>\n",
       "      <td>isfahan</td>\n",
       "      <td>gYIkwqvS</td>\n",
       "      <td>هواوی Y7p با حافظهٔ ۶۴ گیگابایت</td>\n",
       "      <td>۳ ساعت پیش</td>\n",
       "      <td>[{'title': 'برند و مدل', 'format': 'string', '...</td>\n",
       "      <td>[[{'src': 'https://s100.divarcdn.com/static/pi...</td>\n",
       "    </tr>\n",
       "    <tr>\n",
       "      <th>95</th>\n",
       "      <td>گوشی بدون عیب و ایراد به شرط ، به علت نیاز مال...</td>\n",
       "      <td>personal</td>\n",
       "      <td>6400000.0</td>\n",
       "      <td>xiaomi poco x3 pro</td>\n",
       "      <td>isfahan</td>\n",
       "      <td>gYIkwKk5</td>\n",
       "      <td>شیائومی Poco X3 Pro با حافظهٔ ۲۵۶ گیگابایت</td>\n",
       "      <td>۳ ساعت پیش</td>\n",
       "      <td>[{'title': 'برند و مدل', 'format': 'string', '...</td>\n",
       "      <td>[[{'src': 'https://s100.divarcdn.com/static/pi...</td>\n",
       "    </tr>\n",
       "    <tr>\n",
       "      <th>234</th>\n",
       "      <td>تلویزیون ال سی دی  بسیار زیبای LG \\nکاملا سالم...</td>\n",
       "      <td>personal</td>\n",
       "      <td>4100000.0</td>\n",
       "      <td>None</td>\n",
       "      <td>isfahan</td>\n",
       "      <td>gYHYPE6Z</td>\n",
       "      <td>تی وی LG 42 inch</td>\n",
       "      <td>۵ ساعت پیش</td>\n",
       "      <td>[{'title': 'وضعیت', 'format': 'string', 'value...</td>\n",
       "      <td>[[{'src': 'https://s100.divarcdn.com/static/pi...</td>\n",
       "    </tr>\n",
       "  </tbody>\n",
       "</table>\n",
       "</div>"
      ],
      "text/plain": [
       "                                           description business_type  \\\n",
       "81   باسلام‌\\nقیمت‌ عالی‌ عالی‌ بدون‌ هیچ‌ عیبی‌\\nگ...      personal   \n",
       "89         واسه نیاز مالی میخوام بفروشم گوشی درحد صفره      personal   \n",
       "95   گوشی بدون عیب و ایراد به شرط ، به علت نیاز مال...      personal   \n",
       "234  تلویزیون ال سی دی  بسیار زیبای LG \\nکاملا سالم...      personal   \n",
       "\n",
       "         price         brand_model     city     token  \\\n",
       "81   2600000.0  samsung galaxy a11  isfahan  gYIwg0c7   \n",
       "89         NaN          huawei y7p  isfahan  gYIkwqvS   \n",
       "95   6400000.0  xiaomi poco x3 pro  isfahan  gYIkwKk5   \n",
       "234  4100000.0                None  isfahan  gYHYPE6Z   \n",
       "\n",
       "                                          title        date  \\\n",
       "81                 سامسونگ Galaxy A11 سالم سالم  ۳ ساعت پیش   \n",
       "89              هواوی Y7p با حافظهٔ ۶۴ گیگابایت  ۳ ساعت پیش   \n",
       "95   شیائومی Poco X3 Pro با حافظهٔ ۲۵۶ گیگابایت  ۳ ساعت پیش   \n",
       "234                            تی وی LG 42 inch  ۵ ساعت پیش   \n",
       "\n",
       "                                             list_data  \\\n",
       "81   [{'title': 'برند و مدل', 'format': 'string', '...   \n",
       "89   [{'title': 'برند و مدل', 'format': 'string', '...   \n",
       "95   [{'title': 'برند و مدل', 'format': 'string', '...   \n",
       "234  [{'title': 'وضعیت', 'format': 'string', 'value...   \n",
       "\n",
       "                                            web_images  \n",
       "81   [[{'src': 'https://s100.divarcdn.com/static/pi...  \n",
       "89   [[{'src': 'https://s100.divarcdn.com/static/pi...  \n",
       "95   [[{'src': 'https://s100.divarcdn.com/static/pi...  \n",
       "234  [[{'src': 'https://s100.divarcdn.com/static/pi...  "
      ]
     },
     "execution_count": 15,
     "metadata": {},
     "output_type": "execute_result"
    }
   ],
   "source": [
    "df"
   ]
  },
  {
   "cell_type": "code",
   "execution_count": null,
   "id": "0d2ff71b",
   "metadata": {},
   "outputs": [],
   "source": []
  }
 ],
 "metadata": {
  "kernelspec": {
   "display_name": "Python 3 (ipykernel)",
   "language": "python",
   "name": "python3"
  },
  "language_info": {
   "codemirror_mode": {
    "name": "ipython",
    "version": 3
   },
   "file_extension": ".py",
   "mimetype": "text/x-python",
   "name": "python",
   "nbconvert_exporter": "python",
   "pygments_lexer": "ipython3",
   "version": "3.8.10"
  }
 },
 "nbformat": 4,
 "nbformat_minor": 5
}
