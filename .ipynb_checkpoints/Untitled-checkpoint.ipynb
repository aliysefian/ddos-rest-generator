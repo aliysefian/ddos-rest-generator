{
 "cells": [
  {
   "cell_type": "code",
   "execution_count": 1,
   "metadata": {},
   "outputs": [],
   "source": [
    "import numpy as np "
   ]
  },
  {
   "cell_type": "code",
   "execution_count": 2,
   "metadata": {},
   "outputs": [],
   "source": [
    "ss=np.load(\"GnlF_2019-7-1.npy\")"
   ]
  },
  {
   "cell_type": "code",
   "execution_count": 3,
   "metadata": {},
   "outputs": [
    {
     "data": {
      "text/plain": [
       "array([[263116.,  40213.,   3871., ...,   1828.,  25014.,      0.],\n",
       "       [267003.,  34497.,   3652., ...,   2001.,  26606.,      0.],\n",
       "       [367475.,  45762.,   4555., ...,   2450.,  33221.,      0.],\n",
       "       ...,\n",
       "       [     0.,      0.,      0., ...,      0.,      0.,      0.],\n",
       "       [     0.,      0.,      0., ...,      0.,      0.,      0.],\n",
       "       [     0.,      0.,      0., ...,      0.,      0.,      0.]],\n",
       "      dtype=float32)"
      ]
     },
     "execution_count": 3,
     "metadata": {},
     "output_type": "execute_result"
    }
   ],
   "source": [
    "    ss"
   ]
  },
  {
   "cell_type": "code",
   "execution_count": 4,
   "metadata": {},
   "outputs": [
    {
     "data": {
      "text/plain": [
       "(8640, 12)"
      ]
     },
     "execution_count": 4,
     "metadata": {},
     "output_type": "execute_result"
    }
   ],
   "source": [
    "ss.shape"
   ]
  },
  {
   "cell_type": "code",
   "execution_count": 11,
   "metadata": {},
   "outputs": [
    {
     "name": "stdout",
     "output_type": "stream",
     "text": [
      "time_stamp\n",
      "state\n",
      "current\n",
      "average\n",
      "std\n"
     ]
    }
   ],
   "source": [
    "import json \n",
    "  \n",
    "# Opening JSON file \n",
    "f = open('2019-7-1_Gnlf2SetupD.json',) \n",
    "  \n",
    "# returns JSON object as  \n",
    "# a dictionary \n",
    "data = json.load(f) \n",
    "ll=list(data)  \n",
    "# Iterating through the json \n",
    "# list\n",
    "# print(data)\n",
    "for i in data[\"8515\"]:\n",
    "    print(i) \n",
    "  \n",
    "# Closing file \n",
    "f.close() "
   ]
  },
  {
   "cell_type": "code",
   "execution_count": 1,
   "metadata": {},
   "outputs": [],
   "source": [
    "import pandas as pd "
   ]
  },
  {
   "cell_type": "code",
   "execution_count": 16,
   "metadata": {},
   "outputs": [],
   "source": [
    "ss=pd.read_json(\"2019-7-1_Gnlf2SetupD.json\")"
   ]
  },
  {
   "cell_type": "code",
   "execution_count": 6,
   "metadata": {},
   "outputs": [
    {
     "name": "stdout",
     "output_type": "stream",
     "text": [
      "2021-01-21 12:16:19\n"
     ]
    }
   ],
   "source": [
    "from random import randrange\n",
    "import datetime \n",
    "\n",
    "\n",
    "def random_date(start,l):\n",
    "   current = start\n",
    "   while l >= 0:\n",
    "      curr = current + datetime.timedelta(hours=randrange(24),minutes=randrange(60),seconds=randrange(60))\n",
    "      yield curr\n",
    "      l-=1\n",
    "\n",
    "\n",
    "\n",
    "startDate = datetime.datetime(2021, 1, 20,13,00)\n",
    "def date_gen:\n",
    "    t=[]\n",
    "    for x in random_date(startDate,0):\n",
    "       return x\n"
   ]
  },
  {
   "cell_type": "code",
   "execution_count": 4,
   "metadata": {},
   "outputs": [
    {
     "data": {
      "text/plain": [
       "average                                                      NA\n",
       "current       {'TCP': 267003.0, 'UDP': 34497.0, 'OTHER': 365...\n",
       "state         {'TCP': 'Profile', 'UDP': 'Profile', 'OTHER': ...\n",
       "std                                                          NA\n",
       "time_stamp                                     2019-7-1 0:00:10\n",
       "Name: 2, dtype: object"
      ]
     },
     "execution_count": 4,
     "metadata": {},
     "output_type": "execute_result"
    }
   ],
   "source": [
    "ss[2]"
   ]
  },
  {
   "cell_type": "code",
   "execution_count": 79,
   "metadata": {},
   "outputs": [],
   "source": [
    "lstdata=[]\n",
    "for index,item in enumerate(ss):\n",
    "    for x in random_date(startDate,0):\n",
    "        dd=ss[item]\n",
    "        dd.time_stamp=str(x)\n",
    "#         print(dd)\n",
    "        lstdata.append(dd)\n",
    "        break\n",
    "           "
   ]
  },
  {
   "cell_type": "code",
   "execution_count": 8,
   "metadata": {},
   "outputs": [
    {
     "data": {
      "text/plain": [
       "<generator object random_date at 0x7fba445ff830>"
      ]
     },
     "execution_count": 8,
     "metadata": {},
     "output_type": "execute_result"
    }
   ],
   "source": [
    "random_date(startDate,0)"
   ]
  },
  {
   "cell_type": "code",
   "execution_count": null,
   "metadata": {},
   "outputs": [],
   "source": []
  },
  {
   "cell_type": "code",
   "execution_count": null,
   "metadata": {},
   "outputs": [],
   "source": [
    "lstdata=[]\n",
    "\n",
    "for index,item in enumerate(ss):\n",
    "    dd=ss[item]\n",
    "    dd[\"department_id\"]=1\n",
    "    \n",
    "#     dd.time_stamp=random_date(startDate,0)\n",
    "    print(dd)\n",
    "    lstdata.append(dd)\n",
    "    break"
   ]
  },
  {
   "cell_type": "code",
   "execution_count": 12,
   "metadata": {},
   "outputs": [],
   "source": [
    "import requests\n",
    "# for item in ss:\n",
    "#     print(ss[item])"
   ]
  },
  {
   "cell_type": "code",
   "execution_count": null,
   "metadata": {},
   "outputs": [],
   "source": [
    "url=\"http://127.0.0.1:8000/DetectdStat/logger/\"\n",
    "headers = {'Content-type': 'application/json'}\n",
    "for index,item in enumerate(ss):\n",
    "    dd=ss[item].to_json()\n",
    "    x = requests.post(url, data = dd,headers=headers)\n",
    "    print(index)\n",
    "    break\n",
    "    "
   ]
  },
  {
   "cell_type": "code",
   "execution_count": 74,
   "metadata": {},
   "outputs": [
    {
     "data": {
      "text/plain": [
       "'2020-09-20 16:35:21'"
      ]
     },
     "execution_count": 74,
     "metadata": {},
     "output_type": "execute_result"
    }
   ],
   "source": [
    "ss[1].time_stamp"
   ]
  },
  {
   "cell_type": "code",
   "execution_count": 11,
   "metadata": {},
   "outputs": [],
   "source": [
    "import json"
   ]
  },
  {
   "cell_type": "code",
   "execution_count": 5,
   "metadata": {},
   "outputs": [
    {
     "data": {
      "text/plain": [
       "'{\"average\":\"NA\",\"current\":{\"TCP\":263116.0,\"UDP\":40213.0,\"OTHER\":3871.0,\"AVG_PktSize\":371.0,\"SC\":0.0,\"FlowCnt\":1069.0,\"SYN\":6899.0,\"FIN\":4639.0,\"ACK\":257143.0,\"RST\":1828.0,\"PSH\":25014.0,\"TCP_OTHER\":0.0},\"state\":{\"TCP\":\"Profile\",\"UDP\":\"Profile\",\"OTHER\":\"Profile\",\"AVG_PktSize\":\"Profile\",\"SC\":\"Profile\",\"FlowCnt\":\"Profile\",\"SYN\":\"Profile\",\"FIN\":\"Profile\",\"ACK\":\"Profile\",\"RST\":\"Profile\",\"PSH\":\"Profile\",\"TCP_OTHER\":\"Profile\"},\"std\":\"NA\",\"time_stamp\":\"2019-7-1 0:00:00\"}'"
      ]
     },
     "execution_count": 5,
     "metadata": {},
     "output_type": "execute_result"
    }
   ],
   "source": [
    "dd=ss[1].to_json()\n",
    "dd"
   ]
  },
  {
   "cell_type": "code",
   "execution_count": 12,
   "metadata": {},
   "outputs": [
    {
     "data": {
      "text/plain": [
       "'\"{\\\\\"average\\\\\":\\\\\"NA\\\\\",\\\\\"current\\\\\":{\\\\\"TCP\\\\\":263116.0,\\\\\"UDP\\\\\":40213.0,\\\\\"OTHER\\\\\":3871.0,\\\\\"AVG_PktSize\\\\\":371.0,\\\\\"SC\\\\\":0.0,\\\\\"FlowCnt\\\\\":1069.0,\\\\\"SYN\\\\\":6899.0,\\\\\"FIN\\\\\":4639.0,\\\\\"ACK\\\\\":257143.0,\\\\\"RST\\\\\":1828.0,\\\\\"PSH\\\\\":25014.0,\\\\\"TCP_OTHER\\\\\":0.0},\\\\\"state\\\\\":{\\\\\"TCP\\\\\":\\\\\"Profile\\\\\",\\\\\"UDP\\\\\":\\\\\"Profile\\\\\",\\\\\"OTHER\\\\\":\\\\\"Profile\\\\\",\\\\\"AVG_PktSize\\\\\":\\\\\"Profile\\\\\",\\\\\"SC\\\\\":\\\\\"Profile\\\\\",\\\\\"FlowCnt\\\\\":\\\\\"Profile\\\\\",\\\\\"SYN\\\\\":\\\\\"Profile\\\\\",\\\\\"FIN\\\\\":\\\\\"Profile\\\\\",\\\\\"ACK\\\\\":\\\\\"Profile\\\\\",\\\\\"RST\\\\\":\\\\\"Profile\\\\\",\\\\\"PSH\\\\\":\\\\\"Profile\\\\\",\\\\\"TCP_OTHER\\\\\":\\\\\"Profile\\\\\"},\\\\\"std\\\\\":\\\\\"NA\\\\\",\\\\\"time_stamp\\\\\":\\\\\"2019-7-1 0:00:00\\\\\"}\"'"
      ]
     },
     "execution_count": 12,
     "metadata": {},
     "output_type": "execute_result"
    }
   ],
   "source": [
    "json.dumps(dd)"
   ]
  },
  {
   "cell_type": "code",
   "execution_count": 22,
   "metadata": {},
   "outputs": [
    {
     "data": {
      "text/plain": [
       "average                                                      NA\n",
       "current       {'TCP': 263116.0, 'UDP': 40213.0, 'OTHER': 387...\n",
       "state         {'TCP': 'Profile', 'UDP': 'Profile', 'OTHER': ...\n",
       "std                                                          NA\n",
       "time_stamp                                     2019-7-1 0:00:00\n",
       "Name: 1, dtype: object"
      ]
     },
     "execution_count": 22,
     "metadata": {},
     "output_type": "execute_result"
    }
   ],
   "source": [
    "pp=ss[item]\n",
    "pp"
   ]
  },
  {
   "cell_type": "code",
   "execution_count": 24,
   "metadata": {},
   "outputs": [
    {
     "data": {
      "text/plain": [
       "average                                                      NA\n",
       "current       {'TCP': 263116.0, 'UDP': 40213.0, 'OTHER': 387...\n",
       "state         {'TCP': 'Profile', 'UDP': 'Profile', 'OTHER': ...\n",
       "std                                                          NA\n",
       "time_stamp                                     2019-7-1 0:00:00\n",
       "dep                                                           1\n",
       "Name: 1, dtype: object"
      ]
     },
     "execution_count": 24,
     "metadata": {},
     "output_type": "execute_result"
    }
   ],
   "source": [
    "pp[\"dep\"]=1\n",
    "pp"
   ]
  },
  {
   "cell_type": "code",
   "execution_count": null,
   "metadata": {},
   "outputs": [],
   "source": []
  },
  {
   "cell_type": "code",
   "execution_count": 20,
   "metadata": {},
   "outputs": [],
   "source": [
    "ww={\"average\":\"NA\",\"current\":{\"TCP\":263116.0,\"UDP\":40213.0,\"OTHER\":3871.0,\"AVG_PktSize\":371.0,\"SC\":0.0,\"FlowCnt\":1069.0,\"SYN\":6899.0,\"FIN\":4639.0,\"ACK\":257143.0,\"RST\":1828.0,\"PSH\":25014.0,\"TCP_OTHER\":0.0},\"state\":{\"TCP\":\"Profile\",\"UDP\":\"Profile\",\"OTHER\":\"Profile\",\"AVG_PktSize\":\"Profile\",\"SC\":\"Profile\",\"FlowCnt\":\"Profile\",\"SYN\":\"Profile\",\"FIN\":\"Profile\",\"ACK\":\"Profile\",\"RST\":\"Profile\",\"PSH\":\"Profile\",\"TCP_OTHER\":\"Profile\"},\"std\":\"NA\",\"time_stamp\":\"2019-7-1 0:00:00\"}"
   ]
  },
  {
   "cell_type": "code",
   "execution_count": null,
   "metadata": {},
   "outputs": [],
   "source": [
    "url=\"http://127.0.0.1:8000/DetectdStat/logger/\"\n",
    "headers = {'Content-type': 'application/json'}\n",
    "for index,item in enumerate(ss):\n",
    "    pp=ss[item]\n",
    "    pp[\"department\"]=1\n",
    "#     print(ss[item])\n",
    "    dd=pp.to_json()\n",
    "    x = requests.post(url, data = dd,headers=headers)\n",
    "    print(index)\n",
    "    break\n",
    "    "
   ]
  },
  {
   "cell_type": "code",
   "execution_count": null,
   "metadata": {},
   "outputs": [],
   "source": []
  },
  {
   "cell_type": "code",
   "execution_count": null,
   "metadata": {},
   "outputs": [],
   "source": []
  },
  {
   "cell_type": "code",
   "execution_count": null,
   "metadata": {},
   "outputs": [],
   "source": []
  }
 ],
 "metadata": {
  "kernelspec": {
   "display_name": "Python 3",
   "language": "python",
   "name": "python3"
  },
  "language_info": {
   "codemirror_mode": {
    "name": "ipython",
    "version": 3
   },
   "file_extension": ".py",
   "mimetype": "text/x-python",
   "name": "python",
   "nbconvert_exporter": "python",
   "pygments_lexer": "ipython3",
   "version": "3.6.9"
  }
 },
 "nbformat": 4,
 "nbformat_minor": 4
}
